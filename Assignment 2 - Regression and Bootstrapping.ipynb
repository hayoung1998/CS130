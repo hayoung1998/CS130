{
 "cells": [
  {
   "cell_type": "code",
   "execution_count": 3,
   "metadata": {},
   "outputs": [
    {
     "name": "stderr",
     "output_type": "stream",
     "text": [
      "Loading required package: MASS\n",
      "\n",
      "Loading required package: Matrix\n",
      "\n",
      "Loading required package: lme4\n",
      "\n",
      "\n",
      "arm (Version 1.12-2, built: 2021-10-15)\n",
      "\n",
      "\n",
      "Working directory is /Users/hayounglim/Desktop/CS130\n",
      "\n",
      "\n",
      "## \n",
      "##  Matching (Version 4.9-11, Build Date: 2021-10-18)\n",
      "##  See http://sekhon.berkeley.edu/matching for additional documentation.\n",
      "##  Please cite software as:\n",
      "##   Jasjeet S. Sekhon. 2011. ``Multivariate and Propensity Score Matching\n",
      "##   Software with Automated Balance Optimization: The Matching package for R.''\n",
      "##   Journal of Statistical Software, 42(7): 1-52. \n",
      "##\n",
      "\n",
      "\n"
     ]
    }
   ],
   "source": [
    "library(arm)\n",
    "library(Matching)\n",
    "data(lalonde)"
   ]
  },
  {
   "cell_type": "code",
   "execution_count": 4,
   "metadata": {},
   "outputs": [],
   "source": [
    "# splitting the data into a training set (80% random split) and a test set(20%)\n",
    "\n",
    "rows <- sample(nrow(lalonde))\n",
    "shuffled_lalonde <- lalonde[rows, ]\n",
    "split <- round(nrow(lalonde) * 0.80)\n",
    "train <- shuffled_lalonde[1:split, ]\n",
    "test <- shuffled_lalonde[(split + 1):nrow(lalonde), ]"
   ]
  },
  {
   "cell_type": "code",
   "execution_count": 598,
   "metadata": {},
   "outputs": [],
   "source": [
    "# Building two models that incorporate at least 6 predictors + \"treat\" and \"nodegr\"\n",
    "# Model 2 includes an interaction term between \"treat\" and \"nodegr\"\n",
    "\n",
    "lm1 <- lm(re78 ~ age+black+hisp+married+nodegr+re74+re75+u74+u75+treat, data=train)\n",
    "lm2 <- lm(re78 ~ age+black+hisp+married+re74+re75+u74+u75+treat*nodegr, data=train)"
   ]
  },
  {
   "cell_type": "code",
   "execution_count": 599,
   "metadata": {},
   "outputs": [
    {
     "data": {
      "text/plain": [
       "\n",
       "Call:\n",
       "lm(formula = re78 ~ age + black + hisp + married + nodegr + re74 + \n",
       "    re75 + u74 + u75 + treat, data = train)\n",
       "\n",
       "Residuals:\n",
       "   Min     1Q Median     3Q    Max \n",
       " -8917  -4573  -1632   2999  53544 \n",
       "\n",
       "Coefficients:\n",
       "              Estimate Std. Error t value Pr(>|t|)   \n",
       "(Intercept)  6.334e+03  2.136e+03   2.965  0.00324 **\n",
       "age          6.615e+01  5.234e+01   1.264  0.20713   \n",
       "black       -2.023e+03  1.347e+03  -1.502  0.13395   \n",
       "hisp        -4.358e+01  1.773e+03  -0.025  0.98040   \n",
       "married     -7.686e+02  1.028e+03  -0.748  0.45526   \n",
       "nodegr      -1.038e+03  8.932e+02  -1.163  0.24579   \n",
       "re74         1.534e-02  1.019e-01   0.151  0.88040   \n",
       "re75        -2.317e-02  1.710e-01  -0.136  0.89228   \n",
       "u74          2.285e+02  1.395e+03   0.164  0.86997   \n",
       "u75         -1.136e+03  1.214e+03  -0.935  0.35033   \n",
       "treat        1.441e+03  7.370e+02   1.956  0.05132 . \n",
       "---\n",
       "Signif. codes:  0 ‘***’ 0.001 ‘**’ 0.01 ‘*’ 0.05 ‘.’ 0.1 ‘ ’ 1\n",
       "\n",
       "Residual standard error: 6701 on 345 degrees of freedom\n",
       "Multiple R-squared:  0.04167,\tAdjusted R-squared:  0.01389 \n",
       "F-statistic:   1.5 on 10 and 345 DF,  p-value: 0.1375\n"
      ]
     },
     "metadata": {},
     "output_type": "display_data"
    }
   ],
   "source": [
    "summary(lm1)"
   ]
  },
  {
   "cell_type": "code",
   "execution_count": 600,
   "metadata": {},
   "outputs": [
    {
     "data": {
      "text/plain": [
       "\n",
       "Call:\n",
       "lm(formula = re78 ~ age + black + hisp + married + re74 + re75 + \n",
       "    u74 + u75 + treat * nodegr, data = train)\n",
       "\n",
       "Residuals:\n",
       "   Min     1Q Median     3Q    Max \n",
       " -9257  -4580  -1658   2943  53607 \n",
       "\n",
       "Coefficients:\n",
       "               Estimate Std. Error t value Pr(>|t|)  \n",
       "(Intercept)   5.765e+03  2.312e+03   2.493   0.0131 *\n",
       "age           6.567e+01  5.239e+01   1.253   0.2109  \n",
       "black        -1.980e+03  1.350e+03  -1.467   0.1434  \n",
       "hisp         -3.818e+01  1.774e+03  -0.022   0.9828  \n",
       "married      -7.095e+02  1.033e+03  -0.687   0.4927  \n",
       "re74          1.429e-02  1.020e-01   0.140   0.8886  \n",
       "re75         -2.095e-02  1.711e-01  -0.122   0.9027  \n",
       "u74           3.440e+02  1.407e+03   0.244   0.8070  \n",
       "u75          -1.244e+03  1.227e+03  -1.014   0.3113  \n",
       "treat         2.312e+03  1.535e+03   1.506   0.1330  \n",
       "nodegr       -4.113e+02  1.319e+03  -0.312   0.7553  \n",
       "treat:nodegr -1.141e+03  1.764e+03  -0.647   0.5182  \n",
       "---\n",
       "Signif. codes:  0 ‘***’ 0.001 ‘**’ 0.01 ‘*’ 0.05 ‘.’ 0.1 ‘ ’ 1\n",
       "\n",
       "Residual standard error: 6707 on 344 degrees of freedom\n",
       "Multiple R-squared:  0.04283,\tAdjusted R-squared:  0.01223 \n",
       "F-statistic: 1.399 on 11 and 344 DF,  p-value: 0.1711\n"
      ]
     },
     "metadata": {},
     "output_type": "display_data"
    }
   ],
   "source": [
    "summary(lm2)"
   ]
  },
  {
   "cell_type": "code",
   "execution_count": 601,
   "metadata": {},
   "outputs": [
    {
     "data": {
      "text/html": [
       "35724484.8130503"
      ],
      "text/latex": [
       "35724484.8130503"
      ],
      "text/markdown": [
       "35724484.8130503"
      ],
      "text/plain": [
       "[1] 35724485"
      ]
     },
     "metadata": {},
     "output_type": "display_data"
    }
   ],
   "source": [
    "# Mean squared error for Model 1\n",
    "\n",
    "mean((test$re78 - predict(lm1, test)) ^ 2)"
   ]
  },
  {
   "cell_type": "code",
   "execution_count": 602,
   "metadata": {},
   "outputs": [
    {
     "data": {
      "text/html": [
       "35173574.2341919"
      ],
      "text/latex": [
       "35173574.2341919"
      ],
      "text/markdown": [
       "35173574.2341919"
      ],
      "text/plain": [
       "[1] 35173574"
      ]
     },
     "metadata": {},
     "output_type": "display_data"
    }
   ],
   "source": [
    "# Mean squarred error for Model 2\n",
    "\n",
    "mean((test$re78 - predict(lm2, test)) ^ 2)"
   ]
  },
  {
   "cell_type": "code",
   "execution_count": 603,
   "metadata": {},
   "outputs": [],
   "source": [
    "sim.glm <- sim(lm1, 1000)"
   ]
  },
  {
   "cell_type": "code",
   "execution_count": 604,
   "metadata": {},
   "outputs": [],
   "source": [
    "# Simulation for the typical trainee WITH treatment and WITH high school degree (Model 1)\n",
    "\n",
    "storage1.vector = rep(0, 1000)\n",
    "for (i in 1:1000) {\n",
    "  storage1.vector[i] <- sim.glm@coef[i,1] + \n",
    "                       sim.glm@coef[i,2]*25.37 + \n",
    "                       sim.glm@coef[i,3]*1 + \n",
    "                       sim.glm@coef[i,4]*0 + \n",
    "                       sim.glm@coef[i,5]*0 + \n",
    "                       sim.glm@coef[i,6]*0 + \n",
    "                       sim.glm@coef[i,7]*0 + \n",
    "                       sim.glm@coef[i,8]*0 + \n",
    "                       sim.glm@coef[i,9]*0 + \n",
    "                       sim.glm@coef[i,10]*0 + \n",
    "                       sim.glm@coef[i,11]*1 +\n",
    "                       rnorm(1, mean = 0, sd = sim.glm@sigma[i]) # simulate error/noise\n",
    "}"
   ]
  },
  {
   "cell_type": "code",
   "execution_count": 605,
   "metadata": {},
   "outputs": [
    {
     "data": {
      "text/html": [
       "<style>\n",
       ".dl-inline {width: auto; margin:0; padding: 0}\n",
       ".dl-inline>dt, .dl-inline>dd {float: none; width: auto; display: inline-block}\n",
       ".dl-inline>dt::after {content: \":\\0020\"; padding-right: .5ex}\n",
       ".dl-inline>dt:not(:first-of-type) {padding-left: .5ex}\n",
       "</style><dl class=dl-inline><dt>2.5%</dt><dd>-6475.9578036247</dd><dt>97.5%</dt><dd>21311.4191952439</dd></dl>\n"
      ],
      "text/latex": [
       "\\begin{description*}\n",
       "\\item[2.5\\textbackslash{}\\%] -6475.9578036247\n",
       "\\item[97.5\\textbackslash{}\\%] 21311.4191952439\n",
       "\\end{description*}\n"
      ],
      "text/markdown": [
       "2.5%\n",
       ":   -6475.957803624797.5%\n",
       ":   21311.4191952439\n",
       "\n"
      ],
      "text/plain": [
       "     2.5%     97.5% \n",
       "-6475.958 21311.419 "
      ]
     },
     "metadata": {},
     "output_type": "display_data"
    }
   ],
   "source": [
    "quantile(storage1.vector, probs = c(0.025, 0.975))"
   ]
  },
  {
   "cell_type": "code",
   "execution_count": 606,
   "metadata": {},
   "outputs": [],
   "source": [
    "# Simulation for the typical trainee WITHOUT treatment and WITH high school degrees (Model 1)\n",
    "\n",
    "storage2.vector = rep(0, 1000)\n",
    "for (i in 1:1000) {\n",
    "  storage2.vector[i] <- sim.glm@coef[i,1] + \n",
    "                       sim.glm@coef[i,2]*25.37 + \n",
    "                       sim.glm@coef[i,3]*1 + \n",
    "                       sim.glm@coef[i,4]*0 + \n",
    "                       sim.glm@coef[i,5]*0 + \n",
    "                       sim.glm@coef[i,6]*0 + \n",
    "                       sim.glm@coef[i,7]*0 + \n",
    "                       sim.glm@coef[i,8]*0 + \n",
    "                       sim.glm@coef[i,9]*0 + \n",
    "                       sim.glm@coef[i,10]*0 + \n",
    "                       sim.glm@coef[i,11]*0 + \n",
    "                       rnorm(1, mean = 0, sd = sim.glm@sigma[i]) # simulate error/noise\n",
    "}"
   ]
  },
  {
   "cell_type": "code",
   "execution_count": 607,
   "metadata": {},
   "outputs": [
    {
     "data": {
      "text/html": [
       "<style>\n",
       ".dl-inline {width: auto; margin:0; padding: 0}\n",
       ".dl-inline>dt, .dl-inline>dd {float: none; width: auto; display: inline-block}\n",
       ".dl-inline>dt::after {content: \":\\0020\"; padding-right: .5ex}\n",
       ".dl-inline>dt:not(:first-of-type) {padding-left: .5ex}\n",
       "</style><dl class=dl-inline><dt>2.5%</dt><dd>-6635.5654018686</dd><dt>97.5%</dt><dd>20221.9689353893</dd></dl>\n"
      ],
      "text/latex": [
       "\\begin{description*}\n",
       "\\item[2.5\\textbackslash{}\\%] -6635.5654018686\n",
       "\\item[97.5\\textbackslash{}\\%] 20221.9689353893\n",
       "\\end{description*}\n"
      ],
      "text/markdown": [
       "2.5%\n",
       ":   -6635.565401868697.5%\n",
       ":   20221.9689353893\n",
       "\n"
      ],
      "text/plain": [
       "     2.5%     97.5% \n",
       "-6635.565 20221.969 "
      ]
     },
     "metadata": {},
     "output_type": "display_data"
    }
   ],
   "source": [
    "quantile(storage2.vector, probs = c(0.025, 0.975))"
   ]
  },
  {
   "cell_type": "code",
   "execution_count": 608,
   "metadata": {},
   "outputs": [],
   "source": [
    "# Simulation for the typical trainee WITH treatment and WITHOUT high school degrees (Model 1)\n",
    "\n",
    "storage3.vector = rep(0, 1000)\n",
    "for (i in 1:1000) {\n",
    "  storage3.vector[i] <- sim.glm@coef[i,1] + \n",
    "                       sim.glm@coef[i,2]*25.37 + \n",
    "                       sim.glm@coef[i,3]*1 + \n",
    "                       sim.glm@coef[i,4]*0 + \n",
    "                       sim.glm@coef[i,5]*0 + \n",
    "                       sim.glm@coef[i,6]*0 + \n",
    "                       sim.glm@coef[i,7]*0 + \n",
    "                       sim.glm@coef[i,8]*0 + \n",
    "                       sim.glm@coef[i,9]*0 + \n",
    "                       sim.glm@coef[i,10]*0 + \n",
    "                       sim.glm@coef[i,11]*1 + \n",
    "                       rnorm(1, mean = 0, sd = sim.glm@sigma[i]) # simulate error/noise\n",
    "}"
   ]
  },
  {
   "cell_type": "code",
   "execution_count": 609,
   "metadata": {
    "scrolled": false
   },
   "outputs": [
    {
     "data": {
      "text/html": [
       "<style>\n",
       ".dl-inline {width: auto; margin:0; padding: 0}\n",
       ".dl-inline>dt, .dl-inline>dd {float: none; width: auto; display: inline-block}\n",
       ".dl-inline>dt::after {content: \":\\0020\"; padding-right: .5ex}\n",
       ".dl-inline>dt:not(:first-of-type) {padding-left: .5ex}\n",
       "</style><dl class=dl-inline><dt>2.5%</dt><dd>-5510.86019770526</dd><dt>97.5%</dt><dd>19722.0683004606</dd></dl>\n"
      ],
      "text/latex": [
       "\\begin{description*}\n",
       "\\item[2.5\\textbackslash{}\\%] -5510.86019770526\n",
       "\\item[97.5\\textbackslash{}\\%] 19722.0683004606\n",
       "\\end{description*}\n"
      ],
      "text/markdown": [
       "2.5%\n",
       ":   -5510.8601977052697.5%\n",
       ":   19722.0683004606\n",
       "\n"
      ],
      "text/plain": [
       "    2.5%    97.5% \n",
       "-5510.86 19722.07 "
      ]
     },
     "metadata": {},
     "output_type": "display_data"
    }
   ],
   "source": [
    "quantile(storage3.vector, probs = c(0.025, 0.975))"
   ]
  },
  {
   "cell_type": "code",
   "execution_count": 610,
   "metadata": {},
   "outputs": [],
   "source": [
    "# Simulation for the typical trainee WITHOUT treatment and WITHOUT high school degrees (Model 1)\n",
    "\n",
    "storage4.vector = rep(0, 1000)\n",
    "for (i in 1:1000) {\n",
    "  storage4.vector[i] <- sim.glm@coef[i,1] + \n",
    "                       sim.glm@coef[i,2]*25.37 + \n",
    "                       sim.glm@coef[i,3]*1 + \n",
    "                       sim.glm@coef[i,4]*0 + \n",
    "                       sim.glm@coef[i,5]*0 + \n",
    "                       sim.glm@coef[i,6]*1 + \n",
    "                       sim.glm@coef[i,7]*0 + \n",
    "                       sim.glm@coef[i,8]*0 + \n",
    "                       sim.glm@coef[i,9]*0 + \n",
    "                       sim.glm@coef[i,10]*0 + \n",
    "                       sim.glm@coef[i,11]*0 + \n",
    "                       rnorm(1, mean = 0, sd = sim.glm@sigma[i]) # simulate error/noise\n",
    "}"
   ]
  },
  {
   "cell_type": "code",
   "execution_count": 611,
   "metadata": {},
   "outputs": [
    {
     "data": {
      "text/html": [
       "<style>\n",
       ".dl-inline {width: auto; margin:0; padding: 0}\n",
       ".dl-inline>dt, .dl-inline>dd {float: none; width: auto; display: inline-block}\n",
       ".dl-inline>dt::after {content: \":\\0020\"; padding-right: .5ex}\n",
       ".dl-inline>dt:not(:first-of-type) {padding-left: .5ex}\n",
       "</style><dl class=dl-inline><dt>2.5%</dt><dd>-9484.02784056918</dd><dt>97.5%</dt><dd>18000.4370835828</dd></dl>\n"
      ],
      "text/latex": [
       "\\begin{description*}\n",
       "\\item[2.5\\textbackslash{}\\%] -9484.02784056918\n",
       "\\item[97.5\\textbackslash{}\\%] 18000.4370835828\n",
       "\\end{description*}\n"
      ],
      "text/markdown": [
       "2.5%\n",
       ":   -9484.0278405691897.5%\n",
       ":   18000.4370835828\n",
       "\n"
      ],
      "text/plain": [
       "     2.5%     97.5% \n",
       "-9484.028 18000.437 "
      ]
     },
     "metadata": {},
     "output_type": "display_data"
    }
   ],
   "source": [
    "quantile(storage4.vector, probs = c(0.025, 0.975))"
   ]
  },
  {
   "cell_type": "code",
   "execution_count": 612,
   "metadata": {},
   "outputs": [],
   "source": [
    "sim2.glm <- sim(lm2, 1000)"
   ]
  },
  {
   "cell_type": "code",
   "execution_count": 613,
   "metadata": {},
   "outputs": [],
   "source": [
    "# Simulation for the typical trainee WITH treatment and WITH high school degree (Model 2)\n",
    "\n",
    "storage5.vector = rep(0, 1000)\n",
    "for (i in 1:1000) {\n",
    "  storage5.vector[i] <- sim2.glm@coef[i,1] + \n",
    "                       sim2.glm@coef[i,2]*25.37 + \n",
    "                       sim2.glm@coef[i,3]*1 + \n",
    "                       sim2.glm@coef[i,4]*0 + \n",
    "                       sim2.glm@coef[i,5]*0 + \n",
    "                       sim2.glm@coef[i,6]*1 + \n",
    "                       sim2.glm@coef[i,7]*0 + \n",
    "                       sim2.glm@coef[i,8]*1 + \n",
    "                       sim2.glm@coef[i,9]*1 + \n",
    "                       sim2.glm@coef[i,10]*1 + \n",
    "                       sim2.glm@coef[i,11]*0 +\n",
    "                       sim2.glm@coef[i,12]*1 +\n",
    "                       rnorm(1, mean = 0, sd = sim.glm@sigma[i]) # simulate error/noise\n",
    "}"
   ]
  },
  {
   "cell_type": "code",
   "execution_count": 614,
   "metadata": {},
   "outputs": [
    {
     "data": {
      "text/html": [
       "<style>\n",
       ".dl-inline {width: auto; margin:0; padding: 0}\n",
       ".dl-inline>dt, .dl-inline>dd {float: none; width: auto; display: inline-block}\n",
       ".dl-inline>dt::after {content: \":\\0020\"; padding-right: .5ex}\n",
       ".dl-inline>dt:not(:first-of-type) {padding-left: .5ex}\n",
       "</style><dl class=dl-inline><dt>2.5%</dt><dd>-7058.87790778285</dd><dt>97.5%</dt><dd>19081.7424036987</dd></dl>\n"
      ],
      "text/latex": [
       "\\begin{description*}\n",
       "\\item[2.5\\textbackslash{}\\%] -7058.87790778285\n",
       "\\item[97.5\\textbackslash{}\\%] 19081.7424036987\n",
       "\\end{description*}\n"
      ],
      "text/markdown": [
       "2.5%\n",
       ":   -7058.8779077828597.5%\n",
       ":   19081.7424036987\n",
       "\n"
      ],
      "text/plain": [
       "     2.5%     97.5% \n",
       "-7058.878 19081.742 "
      ]
     },
     "metadata": {},
     "output_type": "display_data"
    }
   ],
   "source": [
    "quantile(storage5.vector, probs = c(0.025, 0.975))"
   ]
  },
  {
   "cell_type": "code",
   "execution_count": 615,
   "metadata": {},
   "outputs": [],
   "source": [
    "# Simulation for the typical trainee WITH treatment and WITH high school degree (Model 2)\n",
    "\n",
    "storage6.vector = rep(0, 1000)\n",
    "for (i in 1:1000) {\n",
    "  storage6.vector[i] <- sim2.glm@coef[i,1] + \n",
    "                       sim2.glm@coef[i,2]*25.37 + \n",
    "                       sim2.glm@coef[i,3]*1 + \n",
    "                       sim2.glm@coef[i,4]*0 + \n",
    "                       sim2.glm@coef[i,5]*0 + \n",
    "                       sim2.glm@coef[i,6]*0 + \n",
    "                       sim2.glm@coef[i,7]*0 + \n",
    "                       sim2.glm@coef[i,8]*1 + \n",
    "                       sim2.glm@coef[i,9]*1 + \n",
    "                       sim2.glm@coef[i,10]*0 + \n",
    "                       sim2.glm@coef[i,11]*0 +\n",
    "                       sim2.glm@coef[i,12]*0 +\n",
    "                       rnorm(1, mean = 0, sd = sim.glm@sigma[i]) # simulate error/noise\n",
    "}"
   ]
  },
  {
   "cell_type": "code",
   "execution_count": 616,
   "metadata": {},
   "outputs": [
    {
     "data": {
      "text/html": [
       "<style>\n",
       ".dl-inline {width: auto; margin:0; padding: 0}\n",
       ".dl-inline>dt, .dl-inline>dd {float: none; width: auto; display: inline-block}\n",
       ".dl-inline>dt::after {content: \":\\0020\"; padding-right: .5ex}\n",
       ".dl-inline>dt:not(:first-of-type) {padding-left: .5ex}\n",
       "</style><dl class=dl-inline><dt>2.5%</dt><dd>-7372.56440341087</dd><dt>97.5%</dt><dd>18178.7914647981</dd></dl>\n"
      ],
      "text/latex": [
       "\\begin{description*}\n",
       "\\item[2.5\\textbackslash{}\\%] -7372.56440341087\n",
       "\\item[97.5\\textbackslash{}\\%] 18178.7914647981\n",
       "\\end{description*}\n"
      ],
      "text/markdown": [
       "2.5%\n",
       ":   -7372.5644034108797.5%\n",
       ":   18178.7914647981\n",
       "\n"
      ],
      "text/plain": [
       "     2.5%     97.5% \n",
       "-7372.564 18178.791 "
      ]
     },
     "metadata": {},
     "output_type": "display_data"
    }
   ],
   "source": [
    "quantile(storage6.vector, probs = c(0.025, 0.975))"
   ]
  },
  {
   "cell_type": "code",
   "execution_count": 617,
   "metadata": {},
   "outputs": [],
   "source": [
    "# Simulation for the typical trainee WITH treatment and WITHOUT high school degree (Model 2)\n",
    "\n",
    "storage7.vector = rep(0, 1000)\n",
    "for (i in 1:1000) {\n",
    "  storage7.vector[i] <- sim2.glm@coef[i,1] + \n",
    "                       sim2.glm@coef[i,2]*25.37 + \n",
    "                       sim2.glm@coef[i,3]*1 + \n",
    "                       sim2.glm@coef[i,4]*0 + \n",
    "                       sim2.glm@coef[i,5]*0 + \n",
    "                       sim2.glm@coef[i,6]*0 + \n",
    "                       sim2.glm@coef[i,7]*0 + \n",
    "                       sim2.glm@coef[i,8]*1 + \n",
    "                       sim2.glm@coef[i,9]*1 + \n",
    "                       sim2.glm@coef[i,10]*1 + \n",
    "                       sim2.glm@coef[i,11]*1 +\n",
    "                       sim2.glm@coef[i,12]*0 +\n",
    "                       rnorm(1, mean = 0, sd = sim.glm@sigma[i]) # simulate error/noise\n",
    "}"
   ]
  },
  {
   "cell_type": "code",
   "execution_count": 618,
   "metadata": {},
   "outputs": [
    {
     "data": {
      "text/html": [
       "<style>\n",
       ".dl-inline {width: auto; margin:0; padding: 0}\n",
       ".dl-inline>dt, .dl-inline>dd {float: none; width: auto; display: inline-block}\n",
       ".dl-inline>dt::after {content: \":\\0020\"; padding-right: .5ex}\n",
       ".dl-inline>dt:not(:first-of-type) {padding-left: .5ex}\n",
       "</style><dl class=dl-inline><dt>2.5%</dt><dd>-7048.71521209397</dd><dt>97.5%</dt><dd>20238.4874337319</dd></dl>\n"
      ],
      "text/latex": [
       "\\begin{description*}\n",
       "\\item[2.5\\textbackslash{}\\%] -7048.71521209397\n",
       "\\item[97.5\\textbackslash{}\\%] 20238.4874337319\n",
       "\\end{description*}\n"
      ],
      "text/markdown": [
       "2.5%\n",
       ":   -7048.7152120939797.5%\n",
       ":   20238.4874337319\n",
       "\n"
      ],
      "text/plain": [
       "     2.5%     97.5% \n",
       "-7048.715 20238.487 "
      ]
     },
     "metadata": {},
     "output_type": "display_data"
    }
   ],
   "source": [
    "quantile(storage7.vector, probs = c(0.025, 0.975))"
   ]
  },
  {
   "cell_type": "code",
   "execution_count": 619,
   "metadata": {},
   "outputs": [],
   "source": [
    "# Simulation for the typical trainee WITHOUT treatment and WITHOUT high school degree (Model 2)\n",
    "\n",
    "storage8.vector = rep(0, 1000)\n",
    "for (i in 1:1000) {\n",
    "  storage8.vector[i] <- sim2.glm@coef[i,1] + \n",
    "                       sim2.glm@coef[i,2]*25.37 + \n",
    "                       sim2.glm@coef[i,3]*1 + \n",
    "                       sim2.glm@coef[i,4]*0 + \n",
    "                       sim2.glm@coef[i,5]*0 + \n",
    "                       sim2.glm@coef[i,6]*0 + \n",
    "                       sim2.glm@coef[i,7]*0 + \n",
    "                       sim2.glm@coef[i,8]*1 + \n",
    "                       sim2.glm@coef[i,9]*1 + \n",
    "                       sim2.glm@coef[i,10]*0 + \n",
    "                       sim2.glm@coef[i,11]*1 +\n",
    "                       sim2.glm@coef[i,12]*0 +\n",
    "                       rnorm(1, mean = 0, sd = sim.glm@sigma[i]) # simulate error/noise\n",
    "}"
   ]
  },
  {
   "cell_type": "code",
   "execution_count": 620,
   "metadata": {},
   "outputs": [
    {
     "data": {
      "text/html": [
       "<style>\n",
       ".dl-inline {width: auto; margin:0; padding: 0}\n",
       ".dl-inline>dt, .dl-inline>dd {float: none; width: auto; display: inline-block}\n",
       ".dl-inline>dt::after {content: \":\\0020\"; padding-right: .5ex}\n",
       ".dl-inline>dt:not(:first-of-type) {padding-left: .5ex}\n",
       "</style><dl class=dl-inline><dt>2.5%</dt><dd>-9876.81723065835</dd><dt>97.5%</dt><dd>18540.0887541514</dd></dl>\n"
      ],
      "text/latex": [
       "\\begin{description*}\n",
       "\\item[2.5\\textbackslash{}\\%] -9876.81723065835\n",
       "\\item[97.5\\textbackslash{}\\%] 18540.0887541514\n",
       "\\end{description*}\n"
      ],
      "text/markdown": [
       "2.5%\n",
       ":   -9876.8172306583597.5%\n",
       ":   18540.0887541514\n",
       "\n"
      ],
      "text/plain": [
       "     2.5%     97.5% \n",
       "-9876.817 18540.089 "
      ]
     },
     "metadata": {},
     "output_type": "display_data"
    }
   ],
   "source": [
    "quantile(storage8.vector, probs = c(0.025, 0.975))"
   ]
  },
  {
   "cell_type": "code",
   "execution_count": null,
   "metadata": {},
   "outputs": [],
   "source": []
  },
  {
   "cell_type": "code",
   "execution_count": 621,
   "metadata": {},
   "outputs": [],
   "source": [
    "# Apply regression tree method to build a predictive model\n",
    "\n",
    "library(tree)"
   ]
  },
  {
   "cell_type": "code",
   "execution_count": 622,
   "metadata": {},
   "outputs": [
    {
     "data": {
      "text/plain": [
       "\n",
       "Regression tree:\n",
       "tree(formula = re78 ~ age + black + hisp + married + nodegr + \n",
       "    re74 + re75 + u74 + u75 + treat, data = train)\n",
       "Variables actually used in tree construction:\n",
       "[1] \"treat\"  \"re74\"   \"age\"    \"re75\"   \"nodegr\"\n",
       "Number of terminal nodes:  7 \n",
       "Residual mean deviance:  40270000 = 1.406e+10 / 349 \n",
       "Distribution of residuals:\n",
       "   Min. 1st Qu.  Median    Mean 3rd Qu.    Max. \n",
       " -17970   -4050   -1179       0    2996   42340 "
      ]
     },
     "metadata": {},
     "output_type": "display_data"
    }
   ],
   "source": [
    "tree.re78 <- tree(re78 ~ age+black+hisp+married+nodegr+re74+re75+u74+u75+treat, data=train)\n",
    "summary(tree.re78)"
   ]
  },
  {
   "cell_type": "code",
   "execution_count": 623,
   "metadata": {},
   "outputs": [
    {
     "data": {
      "image/png": "[encoded data removed]",
      "text/plain": [
       "plot without title"
      ]
     },
     "metadata": {
      "image/png": {
       "height": 420,
       "width": 420
      }
     },
     "output_type": "display_data"
    }
   ],
   "source": [
    "plot(tree.re78)\n",
    "text(tree.re78, pretty=0)"
   ]
  },
  {
   "cell_type": "code",
   "execution_count": 624,
   "metadata": {},
   "outputs": [
    {
     "data": {
      "text/html": [
       "46223776.2827712"
      ],
      "text/latex": [
       "46223776.2827712"
      ],
      "text/markdown": [
       "46223776.2827712"
      ],
      "text/plain": [
       "[1] 46223776"
      ]
     },
     "metadata": {},
     "output_type": "display_data"
    }
   ],
   "source": [
    "# Calculate MSE for the original tree\n",
    "\n",
    "test.pred.1 <- predict(tree.re78, test, type=\"vector\")\n",
    "residuals_regression <- test$re78 - test.pred.1\n",
    "MSE_regression <- mean(residuals_regression^2)\n",
    "MSE_regression"
   ]
  },
  {
   "cell_type": "code",
   "execution_count": 625,
   "metadata": {},
   "outputs": [
    {
     "data": {
      "text/plain": [
       "$size\n",
       "[1] 7 6 1\n",
       "\n",
       "$dev\n",
       "[1] 19051885870 18796492470 18042120254\n",
       "\n",
       "$k\n",
       "[1]      -Inf 194708402 382982683\n",
       "\n",
       "$method\n",
       "[1] \"deviance\"\n",
       "\n",
       "attr(,\"class\")\n",
       "[1] \"prune\"         \"tree.sequence\""
      ]
     },
     "metadata": {},
     "output_type": "display_data"
    }
   ],
   "source": [
    "# Perform cross-validation for tree pruning\n",
    "\n",
    "cv.re78 <- cv.tree(tree.re78, FUN = prune.tree) \n",
    "cv.re78"
   ]
  },
  {
   "cell_type": "code",
   "execution_count": 626,
   "metadata": {},
   "outputs": [
    {
     "data": {
      "image/png": "[encoded data removed]",
      "text/plain": [
       "plot without title"
      ]
     },
     "metadata": {
      "image/png": {
       "height": 420,
       "width": 420
      }
     },
     "output_type": "display_data"
    }
   ],
   "source": [
    "# Prune the tree according to optimal size\n",
    "\n",
    "prune.re78 <- prune.tree(tree.re78, best = 2)\n",
    "plot(prune.re78)\n",
    "text(prune.re78, pretty = 0)"
   ]
  },
  {
   "cell_type": "code",
   "execution_count": 627,
   "metadata": {},
   "outputs": [
    {
     "data": {
      "text/html": [
       "46355191.9386257"
      ],
      "text/latex": [
       "46355191.9386257"
      ],
      "text/markdown": [
       "46355191.9386257"
      ],
      "text/plain": [
       "[1] 46355192"
      ]
     },
     "metadata": {},
     "output_type": "display_data"
    }
   ],
   "source": [
    "# Calculate MSE for the pruned tree\n",
    "\n",
    "test.pred.2 <- predict(prune.re78, test, type=\"vector\")\n",
    "residuals_regression <- test$re78 - test.pred.2\n",
    "MSE_regression <- mean(residuals_regression^2)\n",
    "MSE_regression"
   ]
  },
  {
   "cell_type": "code",
   "execution_count": 628,
   "metadata": {},
   "outputs": [
    {
     "data": {
      "text/html": [
       "<strong>1:</strong> 5081.51472093023"
      ],
      "text/latex": [
       "\\textbf{1:} 5081.51472093023"
      ],
      "text/markdown": [
       "**1:** 5081.51472093023"
      ],
      "text/plain": [
       "       1 \n",
       "5081.515 "
      ]
     },
     "metadata": {},
     "output_type": "display_data"
    }
   ],
   "source": [
    "# Calculate expected value for the typical trainee WITH treatment and WITH high school degree\n",
    "\n",
    "age <- c(25.37)\n",
    "black <- c(1)\n",
    "hisp <- c(0)\n",
    "married <- c(0)\n",
    "re74 <- c(0)\n",
    "re75 <- c(0)\n",
    "u74 <- c(1)\n",
    "u75 <- c(1)\n",
    "nodegr <- c(0)\n",
    "treat <- c(1)\n",
    "\n",
    "typical.degree.treat <- data.frame(age, black, hisp, married, re74, re75, u74, u75, nodegr, treat)\n",
    "predict(prune.re78, newdata=typical.degree.treat)\n"
   ]
  },
  {
   "cell_type": "code",
   "execution_count": 629,
   "metadata": {},
   "outputs": [
    {
     "data": {
      "text/html": [
       "<strong>1:</strong> 4050.02286890244"
      ],
      "text/latex": [
       "\\textbf{1:} 4050.02286890244"
      ],
      "text/markdown": [
       "**1:** 4050.02286890244"
      ],
      "text/plain": [
       "       1 \n",
       "4050.023 "
      ]
     },
     "metadata": {},
     "output_type": "display_data"
    }
   ],
   "source": [
    "# Calculate expected value for the typical trainee WITHOUT treatment and WITH high school degree\n",
    "\n",
    "nodegr <- c(0)\n",
    "treat <- c(0)\n",
    "\n",
    "typical.degree.notreat <- data.frame(age, black, hisp, married, re74, re75, u74, u75, nodegr, treat)\n",
    "predict(prune.re78, newdata=typical.degree.notreat)"
   ]
  },
  {
   "cell_type": "code",
   "execution_count": 630,
   "metadata": {},
   "outputs": [
    {
     "data": {
      "text/html": [
       "<strong>1:</strong> 5081.51472093023"
      ],
      "text/latex": [
       "\\textbf{1:} 5081.51472093023"
      ],
      "text/markdown": [
       "**1:** 5081.51472093023"
      ],
      "text/plain": [
       "       1 \n",
       "5081.515 "
      ]
     },
     "metadata": {},
     "output_type": "display_data"
    }
   ],
   "source": [
    "# Calculate expected value for the typical trainee WITH treatment and WITHOUT high school degree\n",
    "\n",
    "nodegr <- c(1)\n",
    "treat <- c(1)\n",
    "\n",
    "typical.nodegree.treat <- data.frame(age, black, hisp, married, re74, re75, u74, u75, nodegr, treat)\n",
    "predict(prune.re78, newdata=typical.degree.treat)"
   ]
  },
  {
   "cell_type": "code",
   "execution_count": 631,
   "metadata": {},
   "outputs": [
    {
     "data": {
      "text/html": [
       "<strong>1:</strong> 4050.02286890244"
      ],
      "text/latex": [
       "\\textbf{1:} 4050.02286890244"
      ],
      "text/markdown": [
       "**1:** 4050.02286890244"
      ],
      "text/plain": [
       "       1 \n",
       "4050.023 "
      ]
     },
     "metadata": {},
     "output_type": "display_data"
    }
   ],
   "source": [
    "# Calculate expected value for the typical trainee WITHOUT treatment and WITHOUT high school degree\n",
    "\n",
    "nodegr <- c(1)\n",
    "treat <- c(0)\n",
    "\n",
    "typical.nodegree.notreat <- data.frame(age, black, hisp, married, re74, re75, u74, u75, nodegr, treat)\n",
    "predict(prune.re78, newdata=typical.degree.notreat)"
   ]
  },
  {
   "cell_type": "code",
   "execution_count": null,
   "metadata": {},
   "outputs": [],
   "source": []
  },
  {
   "cell_type": "code",
   "execution_count": 632,
   "metadata": {},
   "outputs": [],
   "source": [
    "library(randomForest)"
   ]
  },
  {
   "cell_type": "code",
   "execution_count": 633,
   "metadata": {},
   "outputs": [
    {
     "name": "stdout",
     "output_type": "stream",
     "text": [
      "mtry = 3  OOB error = 49706198 \n",
      "Searching left ...\n",
      "mtry = 2 \tOOB error = 47696649 \n",
      "0.04042854 0.05 \n",
      "Searching right ...\n",
      "mtry = 6 \tOOB error = 51738869 \n",
      "-0.04089371 0.05 \n"
     ]
    },
    {
     "data": {
      "text/html": [
       "<table class=\"dataframe\">\n",
       "<caption>A matrix: 3 × 2 of type dbl</caption>\n",
       "<thead>\n",
       "\t<tr><th></th><th scope=col>mtry</th><th scope=col>OOBError</th></tr>\n",
       "</thead>\n",
       "<tbody>\n",
       "\t<tr><th scope=row>2</th><td>2</td><td>47696649</td></tr>\n",
       "\t<tr><th scope=row>3</th><td>3</td><td>49706198</td></tr>\n",
       "\t<tr><th scope=row>6</th><td>6</td><td>51738869</td></tr>\n",
       "</tbody>\n",
       "</table>\n"
      ],
      "text/latex": [
       "A matrix: 3 × 2 of type dbl\n",
       "\\begin{tabular}{r|ll}\n",
       "  & mtry & OOBError\\\\\n",
       "\\hline\n",
       "\t2 & 2 & 47696649\\\\\n",
       "\t3 & 3 & 49706198\\\\\n",
       "\t6 & 6 & 51738869\\\\\n",
       "\\end{tabular}\n"
      ],
      "text/markdown": [
       "\n",
       "A matrix: 3 × 2 of type dbl\n",
       "\n",
       "| <!--/--> | mtry | OOBError |\n",
       "|---|---|---|\n",
       "| 2 | 2 | 47696649 |\n",
       "| 3 | 3 | 49706198 |\n",
       "| 6 | 6 | 51738869 |\n",
       "\n"
      ],
      "text/plain": [
       "  mtry OOBError\n",
       "2 2    47696649\n",
       "3 3    49706198\n",
       "6 6    51738869"
      ]
     },
     "metadata": {},
     "output_type": "display_data"
    },
    {
     "data": {
      "image/png": "[encoded data removed]",
      "text/plain": [
       "plot without title"
      ]
     },
     "metadata": {
      "image/png": {
       "height": 420,
       "width": 420
      }
     },
     "output_type": "display_data"
    }
   ],
   "source": [
    "# Calculate the best value for mtry that minimizes OOB error using tuneRF function\n",
    "\n",
    "tuneRF(train[,-9], train[,9])"
   ]
  },
  {
   "cell_type": "code",
   "execution_count": 634,
   "metadata": {},
   "outputs": [
    {
     "data": {
      "text/plain": [
       "\n",
       "Call:\n",
       " randomForest(formula = re78 ~ age + black + hisp + married +      nodegr + re74 + re75 + u74 + u75 + treat, data = train, mtry = 2,      importance = TRUE) \n",
       "               Type of random forest: regression\n",
       "                     Number of trees: 500\n",
       "No. of variables tried at each split: 2\n",
       "\n",
       "          Mean of squared residuals: 46391709\n",
       "                    % Var explained: -2.17"
      ]
     },
     "metadata": {},
     "output_type": "display_data"
    }
   ],
   "source": [
    "# Apply random forest method to build a predictive model\n",
    "\n",
    "rf.lalonde <- randomForest(re78 ~ age+black+hisp+married+nodegr+re74+re75+u74+u75+treat, data=train, mtry=2, importance=TRUE)\n",
    "rf.lalonde"
   ]
  },
  {
   "cell_type": "code",
   "execution_count": 635,
   "metadata": {},
   "outputs": [
    {
     "data": {
      "text/html": [
       "<table class=\"dataframe\">\n",
       "<caption>A matrix: 10 × 2 of type dbl</caption>\n",
       "<thead>\n",
       "\t<tr><th></th><th scope=col>%IncMSE</th><th scope=col>IncNodePurity</th></tr>\n",
       "</thead>\n",
       "<tbody>\n",
       "\t<tr><th scope=row>age</th><td> 1.282257</td><td>1471090044</td></tr>\n",
       "\t<tr><th scope=row>black</th><td> 3.865856</td><td> 295400853</td></tr>\n",
       "\t<tr><th scope=row>hisp</th><td> 1.798632</td><td> 149532586</td></tr>\n",
       "\t<tr><th scope=row>married</th><td> 3.875657</td><td> 196103053</td></tr>\n",
       "\t<tr><th scope=row>nodegr</th><td>-1.355132</td><td> 338680288</td></tr>\n",
       "\t<tr><th scope=row>re74</th><td> 6.526925</td><td> 856804129</td></tr>\n",
       "\t<tr><th scope=row>re75</th><td> 8.446017</td><td>1662599876</td></tr>\n",
       "\t<tr><th scope=row>u74</th><td> 6.236466</td><td> 225106395</td></tr>\n",
       "\t<tr><th scope=row>u75</th><td> 4.020594</td><td> 185064646</td></tr>\n",
       "\t<tr><th scope=row>treat</th><td> 1.440799</td><td> 475371647</td></tr>\n",
       "</tbody>\n",
       "</table>\n"
      ],
      "text/latex": [
       "A matrix: 10 × 2 of type dbl\n",
       "\\begin{tabular}{r|ll}\n",
       "  & \\%IncMSE & IncNodePurity\\\\\n",
       "\\hline\n",
       "\tage &  1.282257 & 1471090044\\\\\n",
       "\tblack &  3.865856 &  295400853\\\\\n",
       "\thisp &  1.798632 &  149532586\\\\\n",
       "\tmarried &  3.875657 &  196103053\\\\\n",
       "\tnodegr & -1.355132 &  338680288\\\\\n",
       "\tre74 &  6.526925 &  856804129\\\\\n",
       "\tre75 &  8.446017 & 1662599876\\\\\n",
       "\tu74 &  6.236466 &  225106395\\\\\n",
       "\tu75 &  4.020594 &  185064646\\\\\n",
       "\ttreat &  1.440799 &  475371647\\\\\n",
       "\\end{tabular}\n"
      ],
      "text/markdown": [
       "\n",
       "A matrix: 10 × 2 of type dbl\n",
       "\n",
       "| <!--/--> | %IncMSE | IncNodePurity |\n",
       "|---|---|---|\n",
       "| age |  1.282257 | 1471090044 |\n",
       "| black |  3.865856 |  295400853 |\n",
       "| hisp |  1.798632 |  149532586 |\n",
       "| married |  3.875657 |  196103053 |\n",
       "| nodegr | -1.355132 |  338680288 |\n",
       "| re74 |  6.526925 |  856804129 |\n",
       "| re75 |  8.446017 | 1662599876 |\n",
       "| u74 |  6.236466 |  225106395 |\n",
       "| u75 |  4.020594 |  185064646 |\n",
       "| treat |  1.440799 |  475371647 |\n",
       "\n"
      ],
      "text/plain": [
       "        %IncMSE   IncNodePurity\n",
       "age      1.282257 1471090044   \n",
       "black    3.865856  295400853   \n",
       "hisp     1.798632  149532586   \n",
       "married  3.875657  196103053   \n",
       "nodegr  -1.355132  338680288   \n",
       "re74     6.526925  856804129   \n",
       "re75     8.446017 1662599876   \n",
       "u74      6.236466  225106395   \n",
       "u75      4.020594  185064646   \n",
       "treat    1.440799  475371647   "
      ]
     },
     "metadata": {},
     "output_type": "display_data"
    }
   ],
   "source": [
    "importance(rf.lalonde)"
   ]
  },
  {
   "cell_type": "code",
   "execution_count": 636,
   "metadata": {
    "scrolled": false
   },
   "outputs": [
    {
     "data": {
      "image/png": "[encoded data removed]",
      "text/plain": [
       "plot without title"
      ]
     },
     "metadata": {
      "image/png": {
       "height": 420,
       "width": 420
      }
     },
     "output_type": "display_data"
    }
   ],
   "source": [
    "varImpPlot(rf.lalonde)"
   ]
  },
  {
   "cell_type": "code",
   "execution_count": 637,
   "metadata": {},
   "outputs": [],
   "source": [
    "rf.test.pred <- predict(rf.lalonde, newdata=test)"
   ]
  },
  {
   "cell_type": "code",
   "execution_count": 638,
   "metadata": {},
   "outputs": [
    {
     "data": {
      "text/html": [
       "37998337.5756077"
      ],
      "text/latex": [
       "37998337.5756077"
      ],
      "text/markdown": [
       "37998337.5756077"
      ],
      "text/plain": [
       "[1] 37998338"
      ]
     },
     "metadata": {},
     "output_type": "display_data"
    }
   ],
   "source": [
    "mse.rf.test <- mean((test$re78 - rf.test.pred)^2)\n",
    "mse.rf.test"
   ]
  },
  {
   "cell_type": "code",
   "execution_count": 639,
   "metadata": {},
   "outputs": [
    {
     "data": {
      "text/html": [
       "<strong>1:</strong> 6384.04485409521"
      ],
      "text/latex": [
       "\\textbf{1:} 6384.04485409521"
      ],
      "text/markdown": [
       "**1:** 6384.04485409521"
      ],
      "text/plain": [
       "       1 \n",
       "6384.045 "
      ]
     },
     "metadata": {},
     "output_type": "display_data"
    }
   ],
   "source": [
    "# Calculate expected value for the typical trainee WITH treatment and WITH high school degree\n",
    "\n",
    "age <- c(25.37)\n",
    "black <- c(1)\n",
    "hisp <- c(0)\n",
    "married <- c(0)\n",
    "re74 <- c(0)\n",
    "re75 <- c(0)\n",
    "u74 <- c(1)\n",
    "u75 <- c(1)\n",
    "nodegr <- c(0)\n",
    "treat <- c(1)\n",
    "\n",
    "typical.degree.treat <- data.frame(age, black, hisp, married, re74, re75, u74, u75, nodegr, treat)\n",
    "predict(rf.lalonde, newdata=typical.degree.treat)"
   ]
  },
  {
   "cell_type": "code",
   "execution_count": 640,
   "metadata": {},
   "outputs": [
    {
     "data": {
      "text/html": [
       "<strong>1:</strong> 4279.76888304781"
      ],
      "text/latex": [
       "\\textbf{1:} 4279.76888304781"
      ],
      "text/markdown": [
       "**1:** 4279.76888304781"
      ],
      "text/plain": [
       "       1 \n",
       "4279.769 "
      ]
     },
     "metadata": {},
     "output_type": "display_data"
    }
   ],
   "source": [
    "# Calculate expected value for the typical trainee WITHOUT treatment and WITH high school degree\n",
    "\n",
    "\n",
    "nodegr <- c(0)\n",
    "treat <- c(0)\n",
    "\n",
    "typical.degree.notreat <- data.frame(age, black, hisp, married, re74, re75, u74, u75, nodegr, treat)\n",
    "predict(rf.lalonde, newdata=typical.degree.notreat)"
   ]
  },
  {
   "cell_type": "code",
   "execution_count": 641,
   "metadata": {},
   "outputs": [
    {
     "data": {
      "text/html": [
       "<strong>1:</strong> 6384.04485409521"
      ],
      "text/latex": [
       "\\textbf{1:} 6384.04485409521"
      ],
      "text/markdown": [
       "**1:** 6384.04485409521"
      ],
      "text/plain": [
       "       1 \n",
       "6384.045 "
      ]
     },
     "metadata": {},
     "output_type": "display_data"
    }
   ],
   "source": [
    "# Calculate expected value for the typical trainee WITH treatment and WITHOUT high school degree\n",
    "\n",
    "\n",
    "nodegr <- c(1)\n",
    "treat <- c(1)\n",
    "\n",
    "typical.nodegree.treat <- data.frame(age, black, hisp, married, re74, re75, u74, u75, nodegr, treat)\n",
    "predict(rf.lalonde, newdata=typical.degree.treat)"
   ]
  },
  {
   "cell_type": "code",
   "execution_count": 642,
   "metadata": {},
   "outputs": [
    {
     "data": {
      "text/html": [
       "<strong>1:</strong> 4279.76888304781"
      ],
      "text/latex": [
       "\\textbf{1:} 4279.76888304781"
      ],
      "text/markdown": [
       "**1:** 4279.76888304781"
      ],
      "text/plain": [
       "       1 \n",
       "4279.769 "
      ]
     },
     "metadata": {},
     "output_type": "display_data"
    }
   ],
   "source": [
    "# Calculate expected value for the typical trainee WITHOUT treatment and WITHOUT high school degree\n",
    "\n",
    "\n",
    "nodegr <- c(1)\n",
    "treat <- c(0)\n",
    "\n",
    "typical.nodegree.notreat <- data.frame(age, black, hisp, married, re74, re75, u74, u75, nodegr, treat)\n",
    "predict(rf.lalonde, newdata=typical.degree.notreat)"
   ]
  },
  {
   "cell_type": "code",
   "execution_count": 5,
   "metadata": {},
   "outputs": [
    {
     "data": {
      "text/html": [
       "<table class=\"dataframe\">\n",
       "<caption>A data.frame: 356 × 12</caption>\n",
       "<thead>\n",
       "\t<tr><th></th><th scope=col>age</th><th scope=col>educ</th><th scope=col>black</th><th scope=col>hisp</th><th scope=col>married</th><th scope=col>nodegr</th><th scope=col>re74</th><th scope=col>re75</th><th scope=col>re78</th><th scope=col>u74</th><th scope=col>u75</th><th scope=col>treat</th></tr>\n",
       "\t<tr><th></th><th scope=col>&lt;int&gt;</th><th scope=col>&lt;int&gt;</th><th scope=col>&lt;int&gt;</th><th scope=col>&lt;int&gt;</th><th scope=col>&lt;int&gt;</th><th scope=col>&lt;int&gt;</th><th scope=col>&lt;dbl&gt;</th><th scope=col>&lt;dbl&gt;</th><th scope=col>&lt;dbl&gt;</th><th scope=col>&lt;int&gt;</th><th scope=col>&lt;int&gt;</th><th scope=col>&lt;int&gt;</th></tr>\n",
       "</thead>\n",
       "<tbody>\n",
       "\t<tr><th scope=row>80</th><td>22</td><td>11</td><td>1</td><td>0</td><td>0</td><td>1</td><td>    0.00</td><td>    0.0000</td><td> 6456.70</td><td>1</td><td>1</td><td>1</td></tr>\n",
       "\t<tr><th scope=row>254</th><td>27</td><td>11</td><td>1</td><td>0</td><td>0</td><td>1</td><td>    0.00</td><td>    0.0000</td><td>11197.30</td><td>1</td><td>1</td><td>0</td></tr>\n",
       "\t<tr><th scope=row>221</th><td>35</td><td>11</td><td>1</td><td>0</td><td>0</td><td>1</td><td>    0.00</td><td>    0.0000</td><td>    0.00</td><td>1</td><td>1</td><td>0</td></tr>\n",
       "\t<tr><th scope=row>189</th><td>18</td><td> 9</td><td>1</td><td>0</td><td>0</td><td>1</td><td>    0.00</td><td>    0.0000</td><td>10740.10</td><td>1</td><td>1</td><td>0</td></tr>\n",
       "\t<tr><th scope=row>280</th><td>27</td><td>13</td><td>1</td><td>0</td><td>0</td><td>0</td><td>    0.00</td><td>    0.0000</td><td> 7609.52</td><td>1</td><td>1</td><td>0</td></tr>\n",
       "\t<tr><th scope=row>202</th><td>24</td><td>10</td><td>1</td><td>0</td><td>0</td><td>1</td><td>    0.00</td><td>    0.0000</td><td> 7618.64</td><td>1</td><td>1</td><td>0</td></tr>\n",
       "\t<tr><th scope=row>366</th><td>24</td><td>12</td><td>1</td><td>0</td><td>0</td><td>0</td><td>    0.00</td><td>  159.8850</td><td>    0.00</td><td>1</td><td>0</td><td>0</td></tr>\n",
       "\t<tr><th scope=row>270</th><td>50</td><td>10</td><td>0</td><td>1</td><td>0</td><td>1</td><td>    0.00</td><td>    0.0000</td><td>    0.00</td><td>1</td><td>1</td><td>0</td></tr>\n",
       "\t<tr><th scope=row>8</th><td>32</td><td>11</td><td>1</td><td>0</td><td>0</td><td>1</td><td>    0.00</td><td>    0.0000</td><td> 8472.16</td><td>1</td><td>1</td><td>1</td></tr>\n",
       "\t<tr><th scope=row>363</th><td>21</td><td> 7</td><td>1</td><td>0</td><td>0</td><td>1</td><td>33800.00</td><td>    0.0000</td><td>11011.60</td><td>0</td><td>1</td><td>0</td></tr>\n",
       "\t<tr><th scope=row>69</th><td>45</td><td> 5</td><td>1</td><td>0</td><td>1</td><td>1</td><td>    0.00</td><td>    0.0000</td><td> 8546.72</td><td>1</td><td>1</td><td>1</td></tr>\n",
       "\t<tr><th scope=row>51</th><td>28</td><td> 8</td><td>1</td><td>0</td><td>0</td><td>1</td><td>    0.00</td><td>    0.0000</td><td>    0.00</td><td>1</td><td>1</td><td>1</td></tr>\n",
       "\t<tr><th scope=row>308</th><td>20</td><td> 8</td><td>1</td><td>0</td><td>0</td><td>1</td><td>    0.00</td><td>    0.0000</td><td> 3644.66</td><td>1</td><td>1</td><td>0</td></tr>\n",
       "\t<tr><th scope=row>442</th><td>28</td><td>11</td><td>1</td><td>0</td><td>0</td><td>1</td><td>17491.50</td><td>13371.3000</td><td>    0.00</td><td>0</td><td>0</td><td>0</td></tr>\n",
       "\t<tr><th scope=row>39</th><td>46</td><td> 8</td><td>1</td><td>0</td><td>1</td><td>1</td><td>    0.00</td><td>    0.0000</td><td> 3094.16</td><td>1</td><td>1</td><td>1</td></tr>\n",
       "\t<tr><th scope=row>47</th><td>17</td><td> 8</td><td>1</td><td>0</td><td>0</td><td>1</td><td>    0.00</td><td>    0.0000</td><td>    0.00</td><td>1</td><td>1</td><td>1</td></tr>\n",
       "\t<tr><th scope=row>375</th><td>26</td><td>10</td><td>1</td><td>0</td><td>1</td><td>1</td><td> 6140.37</td><td>  558.7730</td><td>    0.00</td><td>0</td><td>0</td><td>0</td></tr>\n",
       "\t<tr><th scope=row>264</th><td>20</td><td>10</td><td>1</td><td>0</td><td>0</td><td>1</td><td>    0.00</td><td>    0.0000</td><td> 8598.52</td><td>1</td><td>1</td><td>0</td></tr>\n",
       "\t<tr><th scope=row>186</th><td>23</td><td>10</td><td>1</td><td>0</td><td>0</td><td>1</td><td>    0.00</td><td>    0.0000</td><td>    0.00</td><td>1</td><td>1</td><td>0</td></tr>\n",
       "\t<tr><th scope=row>444</th><td>25</td><td> 9</td><td>1</td><td>0</td><td>1</td><td>1</td><td>24731.60</td><td>16946.6000</td><td> 7343.96</td><td>0</td><td>0</td><td>0</td></tr>\n",
       "\t<tr><th scope=row>117</th><td>27</td><td>12</td><td>1</td><td>0</td><td>0</td><td>0</td><td> 2143.41</td><td>  357.9500</td><td>22163.30</td><td>0</td><td>0</td><td>1</td></tr>\n",
       "\t<tr><th scope=row>423</th><td>26</td><td> 8</td><td>1</td><td>0</td><td>0</td><td>1</td><td> 1126.29</td><td> 5562.6000</td><td> 3523.58</td><td>0</td><td>0</td><td>0</td></tr>\n",
       "\t<tr><th scope=row>143</th><td>24</td><td>10</td><td>1</td><td>0</td><td>0</td><td>1</td><td> 4250.40</td><td> 2421.9500</td><td> 1660.51</td><td>0</td><td>0</td><td>1</td></tr>\n",
       "\t<tr><th scope=row>180</th><td>29</td><td>10</td><td>0</td><td>1</td><td>0</td><td>1</td><td>    0.00</td><td> 8853.6700</td><td> 5112.01</td><td>1</td><td>0</td><td>1</td></tr>\n",
       "\t<tr><th scope=row>364</th><td>39</td><td>11</td><td>1</td><td>0</td><td>0</td><td>1</td><td>    0.00</td><td>   83.6896</td><td>    0.00</td><td>1</td><td>0</td><td>0</td></tr>\n",
       "\t<tr><th scope=row>190</th><td>45</td><td>11</td><td>1</td><td>0</td><td>0</td><td>1</td><td>    0.00</td><td>    0.0000</td><td>11796.50</td><td>1</td><td>1</td><td>0</td></tr>\n",
       "\t<tr><th scope=row>29</th><td>17</td><td>10</td><td>1</td><td>0</td><td>0</td><td>1</td><td>    0.00</td><td>    0.0000</td><td>16218.00</td><td>1</td><td>1</td><td>1</td></tr>\n",
       "\t<tr><th scope=row>199</th><td>19</td><td>11</td><td>0</td><td>0</td><td>0</td><td>1</td><td>    0.00</td><td>    0.0000</td><td>    0.00</td><td>1</td><td>1</td><td>0</td></tr>\n",
       "\t<tr><th scope=row>128</th><td>23</td><td>10</td><td>1</td><td>0</td><td>1</td><td>1</td><td>    0.00</td><td>  936.4390</td><td>11233.30</td><td>1</td><td>0</td><td>1</td></tr>\n",
       "\t<tr><th scope=row>326</th><td>18</td><td> 9</td><td>1</td><td>0</td><td>0</td><td>1</td><td>    0.00</td><td>    0.0000</td><td>10877.40</td><td>1</td><td>1</td><td>0</td></tr>\n",
       "\t<tr><th scope=row>⋮</th><td>⋮</td><td>⋮</td><td>⋮</td><td>⋮</td><td>⋮</td><td>⋮</td><td>⋮</td><td>⋮</td><td>⋮</td><td>⋮</td><td>⋮</td><td>⋮</td></tr>\n",
       "\t<tr><th scope=row>435</th><td>28</td><td> 9</td><td>1</td><td>0</td><td>1</td><td>1</td><td>10222.40</td><td> 9210.450</td><td> 1239.84</td><td>0</td><td>0</td><td>0</td></tr>\n",
       "\t<tr><th scope=row>148</th><td>27</td><td>11</td><td>1</td><td>0</td><td>0</td><td>1</td><td> 2206.94</td><td> 2666.270</td><td>    0.00</td><td>0</td><td>0</td><td>1</td></tr>\n",
       "\t<tr><th scope=row>207</th><td>44</td><td> 9</td><td>1</td><td>0</td><td>0</td><td>1</td><td>    0.00</td><td>    0.000</td><td> 9722.00</td><td>1</td><td>1</td><td>0</td></tr>\n",
       "\t<tr><th scope=row>156</th><td>25</td><td>13</td><td>1</td><td>0</td><td>0</td><td>0</td><td>12362.90</td><td> 3090.730</td><td>    0.00</td><td>0</td><td>0</td><td>1</td></tr>\n",
       "\t<tr><th scope=row>19</th><td>40</td><td>12</td><td>1</td><td>0</td><td>0</td><td>0</td><td>    0.00</td><td>    0.000</td><td>10804.30</td><td>1</td><td>1</td><td>1</td></tr>\n",
       "\t<tr><th scope=row>304</th><td>28</td><td>13</td><td>1</td><td>0</td><td>0</td><td>0</td><td>    0.00</td><td>    0.000</td><td>    0.00</td><td>1</td><td>1</td><td>0</td></tr>\n",
       "\t<tr><th scope=row>66</th><td>28</td><td> 9</td><td>1</td><td>0</td><td>0</td><td>1</td><td>    0.00</td><td>    0.000</td><td>10694.30</td><td>1</td><td>1</td><td>1</td></tr>\n",
       "\t<tr><th scope=row>97</th><td>18</td><td> 9</td><td>1</td><td>0</td><td>0</td><td>1</td><td>    0.00</td><td>    0.000</td><td> 4482.85</td><td>1</td><td>1</td><td>1</td></tr>\n",
       "\t<tr><th scope=row>15</th><td>17</td><td> 7</td><td>1</td><td>0</td><td>0</td><td>1</td><td>    0.00</td><td>    0.000</td><td> 3023.88</td><td>1</td><td>1</td><td>1</td></tr>\n",
       "\t<tr><th scope=row>429</th><td>21</td><td> 8</td><td>1</td><td>0</td><td>0</td><td>1</td><td>39570.70</td><td> 6608.300</td><td> 3083.58</td><td>0</td><td>0</td><td>0</td></tr>\n",
       "\t<tr><th scope=row>330</th><td>18</td><td>11</td><td>1</td><td>0</td><td>0</td><td>1</td><td>    0.00</td><td>    0.000</td><td>11303.10</td><td>1</td><td>1</td><td>0</td></tr>\n",
       "\t<tr><th scope=row>309</th><td>45</td><td> 9</td><td>1</td><td>0</td><td>0</td><td>1</td><td>    0.00</td><td>    0.000</td><td> 4844.80</td><td>1</td><td>1</td><td>0</td></tr>\n",
       "\t<tr><th scope=row>100</th><td>31</td><td> 9</td><td>0</td><td>1</td><td>0</td><td>1</td><td>    0.00</td><td>    0.000</td><td>26817.60</td><td>1</td><td>1</td><td>1</td></tr>\n",
       "\t<tr><th scope=row>172</th><td>26</td><td>12</td><td>1</td><td>0</td><td>1</td><td>0</td><td> 8408.76</td><td> 5794.830</td><td> 1424.94</td><td>0</td><td>0</td><td>1</td></tr>\n",
       "\t<tr><th scope=row>369</th><td>18</td><td>10</td><td>1</td><td>0</td><td>0</td><td>1</td><td>    0.00</td><td>  273.553</td><td> 5514.37</td><td>1</td><td>0</td><td>0</td></tr>\n",
       "\t<tr><th scope=row>415</th><td>23</td><td> 8</td><td>1</td><td>0</td><td>0</td><td>1</td><td> 7724.28</td><td> 3403.060</td><td>    0.00</td><td>0</td><td>0</td><td>0</td></tr>\n",
       "\t<tr><th scope=row>295</th><td>25</td><td> 9</td><td>1</td><td>0</td><td>1</td><td>1</td><td>    0.00</td><td>    0.000</td><td> 4715.37</td><td>1</td><td>1</td><td>0</td></tr>\n",
       "\t<tr><th scope=row>237</th><td>21</td><td>11</td><td>1</td><td>0</td><td>0</td><td>1</td><td>    0.00</td><td>    0.000</td><td> 1553.29</td><td>1</td><td>1</td><td>0</td></tr>\n",
       "\t<tr><th scope=row>225</th><td>20</td><td>11</td><td>0</td><td>1</td><td>0</td><td>1</td><td>    0.00</td><td>    0.000</td><td> 6378.72</td><td>1</td><td>1</td><td>0</td></tr>\n",
       "\t<tr><th scope=row>44</th><td>18</td><td> 8</td><td>0</td><td>1</td><td>1</td><td>1</td><td>    0.00</td><td>    0.000</td><td> 2787.96</td><td>1</td><td>1</td><td>1</td></tr>\n",
       "\t<tr><th scope=row>340</th><td>19</td><td> 6</td><td>0</td><td>1</td><td>0</td><td>1</td><td>    0.00</td><td>    0.000</td><td> 5071.80</td><td>1</td><td>1</td><td>0</td></tr>\n",
       "\t<tr><th scope=row>310</th><td>39</td><td> 6</td><td>1</td><td>0</td><td>0</td><td>1</td><td>    0.00</td><td>    0.000</td><td>    0.00</td><td>1</td><td>1</td><td>0</td></tr>\n",
       "\t<tr><th scope=row>86</th><td>38</td><td>11</td><td>1</td><td>0</td><td>0</td><td>1</td><td>    0.00</td><td>    0.000</td><td>    0.00</td><td>1</td><td>1</td><td>1</td></tr>\n",
       "\t<tr><th scope=row>281</th><td>26</td><td>10</td><td>1</td><td>0</td><td>0</td><td>1</td><td>    0.00</td><td>    0.000</td><td> 2169.03</td><td>1</td><td>1</td><td>0</td></tr>\n",
       "\t<tr><th scope=row>124</th><td>27</td><td>13</td><td>0</td><td>0</td><td>1</td><td>0</td><td> 9381.57</td><td>  853.723</td><td>    0.00</td><td>0</td><td>0</td><td>1</td></tr>\n",
       "\t<tr><th scope=row>169</th><td>22</td><td>10</td><td>1</td><td>0</td><td>1</td><td>1</td><td> 1468.35</td><td> 5588.660</td><td>13228.30</td><td>0</td><td>0</td><td>1</td></tr>\n",
       "\t<tr><th scope=row>182</th><td>25</td><td>14</td><td>1</td><td>0</td><td>1</td><td>0</td><td>35040.10</td><td>11536.600</td><td>36647.00</td><td>0</td><td>0</td><td>1</td></tr>\n",
       "\t<tr><th scope=row>212</th><td>21</td><td> 7</td><td>0</td><td>1</td><td>0</td><td>1</td><td>    0.00</td><td>    0.000</td><td>    0.00</td><td>1</td><td>1</td><td>0</td></tr>\n",
       "\t<tr><th scope=row>14</th><td>27</td><td>10</td><td>1</td><td>0</td><td>1</td><td>1</td><td>    0.00</td><td>    0.000</td><td>18739.90</td><td>1</td><td>1</td><td>1</td></tr>\n",
       "\t<tr><th scope=row>79</th><td>40</td><td>11</td><td>1</td><td>0</td><td>0</td><td>1</td><td>    0.00</td><td>    0.000</td><td>23005.60</td><td>1</td><td>1</td><td>1</td></tr>\n",
       "</tbody>\n",
       "</table>\n"
      ],
      "text/latex": [
       "A data.frame: 356 × 12\n",
       "\\begin{tabular}{r|llllllllllll}\n",
       "  & age & educ & black & hisp & married & nodegr & re74 & re75 & re78 & u74 & u75 & treat\\\\\n",
       "  & <int> & <int> & <int> & <int> & <int> & <int> & <dbl> & <dbl> & <dbl> & <int> & <int> & <int>\\\\\n",
       "\\hline\n",
       "\t80 & 22 & 11 & 1 & 0 & 0 & 1 &     0.00 &     0.0000 &  6456.70 & 1 & 1 & 1\\\\\n",
       "\t254 & 27 & 11 & 1 & 0 & 0 & 1 &     0.00 &     0.0000 & 11197.30 & 1 & 1 & 0\\\\\n",
       "\t221 & 35 & 11 & 1 & 0 & 0 & 1 &     0.00 &     0.0000 &     0.00 & 1 & 1 & 0\\\\\n",
       "\t189 & 18 &  9 & 1 & 0 & 0 & 1 &     0.00 &     0.0000 & 10740.10 & 1 & 1 & 0\\\\\n",
       "\t280 & 27 & 13 & 1 & 0 & 0 & 0 &     0.00 &     0.0000 &  7609.52 & 1 & 1 & 0\\\\\n",
       "\t202 & 24 & 10 & 1 & 0 & 0 & 1 &     0.00 &     0.0000 &  7618.64 & 1 & 1 & 0\\\\\n",
       "\t366 & 24 & 12 & 1 & 0 & 0 & 0 &     0.00 &   159.8850 &     0.00 & 1 & 0 & 0\\\\\n",
       "\t270 & 50 & 10 & 0 & 1 & 0 & 1 &     0.00 &     0.0000 &     0.00 & 1 & 1 & 0\\\\\n",
       "\t8 & 32 & 11 & 1 & 0 & 0 & 1 &     0.00 &     0.0000 &  8472.16 & 1 & 1 & 1\\\\\n",
       "\t363 & 21 &  7 & 1 & 0 & 0 & 1 & 33800.00 &     0.0000 & 11011.60 & 0 & 1 & 0\\\\\n",
       "\t69 & 45 &  5 & 1 & 0 & 1 & 1 &     0.00 &     0.0000 &  8546.72 & 1 & 1 & 1\\\\\n",
       "\t51 & 28 &  8 & 1 & 0 & 0 & 1 &     0.00 &     0.0000 &     0.00 & 1 & 1 & 1\\\\\n",
       "\t308 & 20 &  8 & 1 & 0 & 0 & 1 &     0.00 &     0.0000 &  3644.66 & 1 & 1 & 0\\\\\n",
       "\t442 & 28 & 11 & 1 & 0 & 0 & 1 & 17491.50 & 13371.3000 &     0.00 & 0 & 0 & 0\\\\\n",
       "\t39 & 46 &  8 & 1 & 0 & 1 & 1 &     0.00 &     0.0000 &  3094.16 & 1 & 1 & 1\\\\\n",
       "\t47 & 17 &  8 & 1 & 0 & 0 & 1 &     0.00 &     0.0000 &     0.00 & 1 & 1 & 1\\\\\n",
       "\t375 & 26 & 10 & 1 & 0 & 1 & 1 &  6140.37 &   558.7730 &     0.00 & 0 & 0 & 0\\\\\n",
       "\t264 & 20 & 10 & 1 & 0 & 0 & 1 &     0.00 &     0.0000 &  8598.52 & 1 & 1 & 0\\\\\n",
       "\t186 & 23 & 10 & 1 & 0 & 0 & 1 &     0.00 &     0.0000 &     0.00 & 1 & 1 & 0\\\\\n",
       "\t444 & 25 &  9 & 1 & 0 & 1 & 1 & 24731.60 & 16946.6000 &  7343.96 & 0 & 0 & 0\\\\\n",
       "\t117 & 27 & 12 & 1 & 0 & 0 & 0 &  2143.41 &   357.9500 & 22163.30 & 0 & 0 & 1\\\\\n",
       "\t423 & 26 &  8 & 1 & 0 & 0 & 1 &  1126.29 &  5562.6000 &  3523.58 & 0 & 0 & 0\\\\\n",
       "\t143 & 24 & 10 & 1 & 0 & 0 & 1 &  4250.40 &  2421.9500 &  1660.51 & 0 & 0 & 1\\\\\n",
       "\t180 & 29 & 10 & 0 & 1 & 0 & 1 &     0.00 &  8853.6700 &  5112.01 & 1 & 0 & 1\\\\\n",
       "\t364 & 39 & 11 & 1 & 0 & 0 & 1 &     0.00 &    83.6896 &     0.00 & 1 & 0 & 0\\\\\n",
       "\t190 & 45 & 11 & 1 & 0 & 0 & 1 &     0.00 &     0.0000 & 11796.50 & 1 & 1 & 0\\\\\n",
       "\t29 & 17 & 10 & 1 & 0 & 0 & 1 &     0.00 &     0.0000 & 16218.00 & 1 & 1 & 1\\\\\n",
       "\t199 & 19 & 11 & 0 & 0 & 0 & 1 &     0.00 &     0.0000 &     0.00 & 1 & 1 & 0\\\\\n",
       "\t128 & 23 & 10 & 1 & 0 & 1 & 1 &     0.00 &   936.4390 & 11233.30 & 1 & 0 & 1\\\\\n",
       "\t326 & 18 &  9 & 1 & 0 & 0 & 1 &     0.00 &     0.0000 & 10877.40 & 1 & 1 & 0\\\\\n",
       "\t⋮ & ⋮ & ⋮ & ⋮ & ⋮ & ⋮ & ⋮ & ⋮ & ⋮ & ⋮ & ⋮ & ⋮ & ⋮\\\\\n",
       "\t435 & 28 &  9 & 1 & 0 & 1 & 1 & 10222.40 &  9210.450 &  1239.84 & 0 & 0 & 0\\\\\n",
       "\t148 & 27 & 11 & 1 & 0 & 0 & 1 &  2206.94 &  2666.270 &     0.00 & 0 & 0 & 1\\\\\n",
       "\t207 & 44 &  9 & 1 & 0 & 0 & 1 &     0.00 &     0.000 &  9722.00 & 1 & 1 & 0\\\\\n",
       "\t156 & 25 & 13 & 1 & 0 & 0 & 0 & 12362.90 &  3090.730 &     0.00 & 0 & 0 & 1\\\\\n",
       "\t19 & 40 & 12 & 1 & 0 & 0 & 0 &     0.00 &     0.000 & 10804.30 & 1 & 1 & 1\\\\\n",
       "\t304 & 28 & 13 & 1 & 0 & 0 & 0 &     0.00 &     0.000 &     0.00 & 1 & 1 & 0\\\\\n",
       "\t66 & 28 &  9 & 1 & 0 & 0 & 1 &     0.00 &     0.000 & 10694.30 & 1 & 1 & 1\\\\\n",
       "\t97 & 18 &  9 & 1 & 0 & 0 & 1 &     0.00 &     0.000 &  4482.85 & 1 & 1 & 1\\\\\n",
       "\t15 & 17 &  7 & 1 & 0 & 0 & 1 &     0.00 &     0.000 &  3023.88 & 1 & 1 & 1\\\\\n",
       "\t429 & 21 &  8 & 1 & 0 & 0 & 1 & 39570.70 &  6608.300 &  3083.58 & 0 & 0 & 0\\\\\n",
       "\t330 & 18 & 11 & 1 & 0 & 0 & 1 &     0.00 &     0.000 & 11303.10 & 1 & 1 & 0\\\\\n",
       "\t309 & 45 &  9 & 1 & 0 & 0 & 1 &     0.00 &     0.000 &  4844.80 & 1 & 1 & 0\\\\\n",
       "\t100 & 31 &  9 & 0 & 1 & 0 & 1 &     0.00 &     0.000 & 26817.60 & 1 & 1 & 1\\\\\n",
       "\t172 & 26 & 12 & 1 & 0 & 1 & 0 &  8408.76 &  5794.830 &  1424.94 & 0 & 0 & 1\\\\\n",
       "\t369 & 18 & 10 & 1 & 0 & 0 & 1 &     0.00 &   273.553 &  5514.37 & 1 & 0 & 0\\\\\n",
       "\t415 & 23 &  8 & 1 & 0 & 0 & 1 &  7724.28 &  3403.060 &     0.00 & 0 & 0 & 0\\\\\n",
       "\t295 & 25 &  9 & 1 & 0 & 1 & 1 &     0.00 &     0.000 &  4715.37 & 1 & 1 & 0\\\\\n",
       "\t237 & 21 & 11 & 1 & 0 & 0 & 1 &     0.00 &     0.000 &  1553.29 & 1 & 1 & 0\\\\\n",
       "\t225 & 20 & 11 & 0 & 1 & 0 & 1 &     0.00 &     0.000 &  6378.72 & 1 & 1 & 0\\\\\n",
       "\t44 & 18 &  8 & 0 & 1 & 1 & 1 &     0.00 &     0.000 &  2787.96 & 1 & 1 & 1\\\\\n",
       "\t340 & 19 &  6 & 0 & 1 & 0 & 1 &     0.00 &     0.000 &  5071.80 & 1 & 1 & 0\\\\\n",
       "\t310 & 39 &  6 & 1 & 0 & 0 & 1 &     0.00 &     0.000 &     0.00 & 1 & 1 & 0\\\\\n",
       "\t86 & 38 & 11 & 1 & 0 & 0 & 1 &     0.00 &     0.000 &     0.00 & 1 & 1 & 1\\\\\n",
       "\t281 & 26 & 10 & 1 & 0 & 0 & 1 &     0.00 &     0.000 &  2169.03 & 1 & 1 & 0\\\\\n",
       "\t124 & 27 & 13 & 0 & 0 & 1 & 0 &  9381.57 &   853.723 &     0.00 & 0 & 0 & 1\\\\\n",
       "\t169 & 22 & 10 & 1 & 0 & 1 & 1 &  1468.35 &  5588.660 & 13228.30 & 0 & 0 & 1\\\\\n",
       "\t182 & 25 & 14 & 1 & 0 & 1 & 0 & 35040.10 & 11536.600 & 36647.00 & 0 & 0 & 1\\\\\n",
       "\t212 & 21 &  7 & 0 & 1 & 0 & 1 &     0.00 &     0.000 &     0.00 & 1 & 1 & 0\\\\\n",
       "\t14 & 27 & 10 & 1 & 0 & 1 & 1 &     0.00 &     0.000 & 18739.90 & 1 & 1 & 1\\\\\n",
       "\t79 & 40 & 11 & 1 & 0 & 0 & 1 &     0.00 &     0.000 & 23005.60 & 1 & 1 & 1\\\\\n",
       "\\end{tabular}\n"
      ],
      "text/markdown": [
       "\n",
       "A data.frame: 356 × 12\n",
       "\n",
       "| <!--/--> | age &lt;int&gt; | educ &lt;int&gt; | black &lt;int&gt; | hisp &lt;int&gt; | married &lt;int&gt; | nodegr &lt;int&gt; | re74 &lt;dbl&gt; | re75 &lt;dbl&gt; | re78 &lt;dbl&gt; | u74 &lt;int&gt; | u75 &lt;int&gt; | treat &lt;int&gt; |\n",
       "|---|---|---|---|---|---|---|---|---|---|---|---|---|\n",
       "| 80 | 22 | 11 | 1 | 0 | 0 | 1 |     0.00 |     0.0000 |  6456.70 | 1 | 1 | 1 |\n",
       "| 254 | 27 | 11 | 1 | 0 | 0 | 1 |     0.00 |     0.0000 | 11197.30 | 1 | 1 | 0 |\n",
       "| 221 | 35 | 11 | 1 | 0 | 0 | 1 |     0.00 |     0.0000 |     0.00 | 1 | 1 | 0 |\n",
       "| 189 | 18 |  9 | 1 | 0 | 0 | 1 |     0.00 |     0.0000 | 10740.10 | 1 | 1 | 0 |\n",
       "| 280 | 27 | 13 | 1 | 0 | 0 | 0 |     0.00 |     0.0000 |  7609.52 | 1 | 1 | 0 |\n",
       "| 202 | 24 | 10 | 1 | 0 | 0 | 1 |     0.00 |     0.0000 |  7618.64 | 1 | 1 | 0 |\n",
       "| 366 | 24 | 12 | 1 | 0 | 0 | 0 |     0.00 |   159.8850 |     0.00 | 1 | 0 | 0 |\n",
       "| 270 | 50 | 10 | 0 | 1 | 0 | 1 |     0.00 |     0.0000 |     0.00 | 1 | 1 | 0 |\n",
       "| 8 | 32 | 11 | 1 | 0 | 0 | 1 |     0.00 |     0.0000 |  8472.16 | 1 | 1 | 1 |\n",
       "| 363 | 21 |  7 | 1 | 0 | 0 | 1 | 33800.00 |     0.0000 | 11011.60 | 0 | 1 | 0 |\n",
       "| 69 | 45 |  5 | 1 | 0 | 1 | 1 |     0.00 |     0.0000 |  8546.72 | 1 | 1 | 1 |\n",
       "| 51 | 28 |  8 | 1 | 0 | 0 | 1 |     0.00 |     0.0000 |     0.00 | 1 | 1 | 1 |\n",
       "| 308 | 20 |  8 | 1 | 0 | 0 | 1 |     0.00 |     0.0000 |  3644.66 | 1 | 1 | 0 |\n",
       "| 442 | 28 | 11 | 1 | 0 | 0 | 1 | 17491.50 | 13371.3000 |     0.00 | 0 | 0 | 0 |\n",
       "| 39 | 46 |  8 | 1 | 0 | 1 | 1 |     0.00 |     0.0000 |  3094.16 | 1 | 1 | 1 |\n",
       "| 47 | 17 |  8 | 1 | 0 | 0 | 1 |     0.00 |     0.0000 |     0.00 | 1 | 1 | 1 |\n",
       "| 375 | 26 | 10 | 1 | 0 | 1 | 1 |  6140.37 |   558.7730 |     0.00 | 0 | 0 | 0 |\n",
       "| 264 | 20 | 10 | 1 | 0 | 0 | 1 |     0.00 |     0.0000 |  8598.52 | 1 | 1 | 0 |\n",
       "| 186 | 23 | 10 | 1 | 0 | 0 | 1 |     0.00 |     0.0000 |     0.00 | 1 | 1 | 0 |\n",
       "| 444 | 25 |  9 | 1 | 0 | 1 | 1 | 24731.60 | 16946.6000 |  7343.96 | 0 | 0 | 0 |\n",
       "| 117 | 27 | 12 | 1 | 0 | 0 | 0 |  2143.41 |   357.9500 | 22163.30 | 0 | 0 | 1 |\n",
       "| 423 | 26 |  8 | 1 | 0 | 0 | 1 |  1126.29 |  5562.6000 |  3523.58 | 0 | 0 | 0 |\n",
       "| 143 | 24 | 10 | 1 | 0 | 0 | 1 |  4250.40 |  2421.9500 |  1660.51 | 0 | 0 | 1 |\n",
       "| 180 | 29 | 10 | 0 | 1 | 0 | 1 |     0.00 |  8853.6700 |  5112.01 | 1 | 0 | 1 |\n",
       "| 364 | 39 | 11 | 1 | 0 | 0 | 1 |     0.00 |    83.6896 |     0.00 | 1 | 0 | 0 |\n",
       "| 190 | 45 | 11 | 1 | 0 | 0 | 1 |     0.00 |     0.0000 | 11796.50 | 1 | 1 | 0 |\n",
       "| 29 | 17 | 10 | 1 | 0 | 0 | 1 |     0.00 |     0.0000 | 16218.00 | 1 | 1 | 1 |\n",
       "| 199 | 19 | 11 | 0 | 0 | 0 | 1 |     0.00 |     0.0000 |     0.00 | 1 | 1 | 0 |\n",
       "| 128 | 23 | 10 | 1 | 0 | 1 | 1 |     0.00 |   936.4390 | 11233.30 | 1 | 0 | 1 |\n",
       "| 326 | 18 |  9 | 1 | 0 | 0 | 1 |     0.00 |     0.0000 | 10877.40 | 1 | 1 | 0 |\n",
       "| ⋮ | ⋮ | ⋮ | ⋮ | ⋮ | ⋮ | ⋮ | ⋮ | ⋮ | ⋮ | ⋮ | ⋮ | ⋮ |\n",
       "| 435 | 28 |  9 | 1 | 0 | 1 | 1 | 10222.40 |  9210.450 |  1239.84 | 0 | 0 | 0 |\n",
       "| 148 | 27 | 11 | 1 | 0 | 0 | 1 |  2206.94 |  2666.270 |     0.00 | 0 | 0 | 1 |\n",
       "| 207 | 44 |  9 | 1 | 0 | 0 | 1 |     0.00 |     0.000 |  9722.00 | 1 | 1 | 0 |\n",
       "| 156 | 25 | 13 | 1 | 0 | 0 | 0 | 12362.90 |  3090.730 |     0.00 | 0 | 0 | 1 |\n",
       "| 19 | 40 | 12 | 1 | 0 | 0 | 0 |     0.00 |     0.000 | 10804.30 | 1 | 1 | 1 |\n",
       "| 304 | 28 | 13 | 1 | 0 | 0 | 0 |     0.00 |     0.000 |     0.00 | 1 | 1 | 0 |\n",
       "| 66 | 28 |  9 | 1 | 0 | 0 | 1 |     0.00 |     0.000 | 10694.30 | 1 | 1 | 1 |\n",
       "| 97 | 18 |  9 | 1 | 0 | 0 | 1 |     0.00 |     0.000 |  4482.85 | 1 | 1 | 1 |\n",
       "| 15 | 17 |  7 | 1 | 0 | 0 | 1 |     0.00 |     0.000 |  3023.88 | 1 | 1 | 1 |\n",
       "| 429 | 21 |  8 | 1 | 0 | 0 | 1 | 39570.70 |  6608.300 |  3083.58 | 0 | 0 | 0 |\n",
       "| 330 | 18 | 11 | 1 | 0 | 0 | 1 |     0.00 |     0.000 | 11303.10 | 1 | 1 | 0 |\n",
       "| 309 | 45 |  9 | 1 | 0 | 0 | 1 |     0.00 |     0.000 |  4844.80 | 1 | 1 | 0 |\n",
       "| 100 | 31 |  9 | 0 | 1 | 0 | 1 |     0.00 |     0.000 | 26817.60 | 1 | 1 | 1 |\n",
       "| 172 | 26 | 12 | 1 | 0 | 1 | 0 |  8408.76 |  5794.830 |  1424.94 | 0 | 0 | 1 |\n",
       "| 369 | 18 | 10 | 1 | 0 | 0 | 1 |     0.00 |   273.553 |  5514.37 | 1 | 0 | 0 |\n",
       "| 415 | 23 |  8 | 1 | 0 | 0 | 1 |  7724.28 |  3403.060 |     0.00 | 0 | 0 | 0 |\n",
       "| 295 | 25 |  9 | 1 | 0 | 1 | 1 |     0.00 |     0.000 |  4715.37 | 1 | 1 | 0 |\n",
       "| 237 | 21 | 11 | 1 | 0 | 0 | 1 |     0.00 |     0.000 |  1553.29 | 1 | 1 | 0 |\n",
       "| 225 | 20 | 11 | 0 | 1 | 0 | 1 |     0.00 |     0.000 |  6378.72 | 1 | 1 | 0 |\n",
       "| 44 | 18 |  8 | 0 | 1 | 1 | 1 |     0.00 |     0.000 |  2787.96 | 1 | 1 | 1 |\n",
       "| 340 | 19 |  6 | 0 | 1 | 0 | 1 |     0.00 |     0.000 |  5071.80 | 1 | 1 | 0 |\n",
       "| 310 | 39 |  6 | 1 | 0 | 0 | 1 |     0.00 |     0.000 |     0.00 | 1 | 1 | 0 |\n",
       "| 86 | 38 | 11 | 1 | 0 | 0 | 1 |     0.00 |     0.000 |     0.00 | 1 | 1 | 1 |\n",
       "| 281 | 26 | 10 | 1 | 0 | 0 | 1 |     0.00 |     0.000 |  2169.03 | 1 | 1 | 0 |\n",
       "| 124 | 27 | 13 | 0 | 0 | 1 | 0 |  9381.57 |   853.723 |     0.00 | 0 | 0 | 1 |\n",
       "| 169 | 22 | 10 | 1 | 0 | 1 | 1 |  1468.35 |  5588.660 | 13228.30 | 0 | 0 | 1 |\n",
       "| 182 | 25 | 14 | 1 | 0 | 1 | 0 | 35040.10 | 11536.600 | 36647.00 | 0 | 0 | 1 |\n",
       "| 212 | 21 |  7 | 0 | 1 | 0 | 1 |     0.00 |     0.000 |     0.00 | 1 | 1 | 0 |\n",
       "| 14 | 27 | 10 | 1 | 0 | 1 | 1 |     0.00 |     0.000 | 18739.90 | 1 | 1 | 1 |\n",
       "| 79 | 40 | 11 | 1 | 0 | 0 | 1 |     0.00 |     0.000 | 23005.60 | 1 | 1 | 1 |\n",
       "\n"
      ],
      "text/plain": [
       "    age educ black hisp married nodegr re74     re75       re78     u74 u75\n",
       "80  22  11   1     0    0       1          0.00     0.0000  6456.70 1   1  \n",
       "254 27  11   1     0    0       1          0.00     0.0000 11197.30 1   1  \n",
       "221 35  11   1     0    0       1          0.00     0.0000     0.00 1   1  \n",
       "189 18   9   1     0    0       1          0.00     0.0000 10740.10 1   1  \n",
       "280 27  13   1     0    0       0          0.00     0.0000  7609.52 1   1  \n",
       "202 24  10   1     0    0       1          0.00     0.0000  7618.64 1   1  \n",
       "366 24  12   1     0    0       0          0.00   159.8850     0.00 1   0  \n",
       "270 50  10   0     1    0       1          0.00     0.0000     0.00 1   1  \n",
       "8   32  11   1     0    0       1          0.00     0.0000  8472.16 1   1  \n",
       "363 21   7   1     0    0       1      33800.00     0.0000 11011.60 0   1  \n",
       "69  45   5   1     0    1       1          0.00     0.0000  8546.72 1   1  \n",
       "51  28   8   1     0    0       1          0.00     0.0000     0.00 1   1  \n",
       "308 20   8   1     0    0       1          0.00     0.0000  3644.66 1   1  \n",
       "442 28  11   1     0    0       1      17491.50 13371.3000     0.00 0   0  \n",
       "39  46   8   1     0    1       1          0.00     0.0000  3094.16 1   1  \n",
       "47  17   8   1     0    0       1          0.00     0.0000     0.00 1   1  \n",
       "375 26  10   1     0    1       1       6140.37   558.7730     0.00 0   0  \n",
       "264 20  10   1     0    0       1          0.00     0.0000  8598.52 1   1  \n",
       "186 23  10   1     0    0       1          0.00     0.0000     0.00 1   1  \n",
       "444 25   9   1     0    1       1      24731.60 16946.6000  7343.96 0   0  \n",
       "117 27  12   1     0    0       0       2143.41   357.9500 22163.30 0   0  \n",
       "423 26   8   1     0    0       1       1126.29  5562.6000  3523.58 0   0  \n",
       "143 24  10   1     0    0       1       4250.40  2421.9500  1660.51 0   0  \n",
       "180 29  10   0     1    0       1          0.00  8853.6700  5112.01 1   0  \n",
       "364 39  11   1     0    0       1          0.00    83.6896     0.00 1   0  \n",
       "190 45  11   1     0    0       1          0.00     0.0000 11796.50 1   1  \n",
       "29  17  10   1     0    0       1          0.00     0.0000 16218.00 1   1  \n",
       "199 19  11   0     0    0       1          0.00     0.0000     0.00 1   1  \n",
       "128 23  10   1     0    1       1          0.00   936.4390 11233.30 1   0  \n",
       "326 18   9   1     0    0       1          0.00     0.0000 10877.40 1   1  \n",
       "⋮   ⋮   ⋮    ⋮     ⋮    ⋮       ⋮      ⋮        ⋮          ⋮        ⋮   ⋮  \n",
       "435 28   9   1     0    1       1      10222.40  9210.450   1239.84 0   0  \n",
       "148 27  11   1     0    0       1       2206.94  2666.270      0.00 0   0  \n",
       "207 44   9   1     0    0       1          0.00     0.000   9722.00 1   1  \n",
       "156 25  13   1     0    0       0      12362.90  3090.730      0.00 0   0  \n",
       "19  40  12   1     0    0       0          0.00     0.000  10804.30 1   1  \n",
       "304 28  13   1     0    0       0          0.00     0.000      0.00 1   1  \n",
       "66  28   9   1     0    0       1          0.00     0.000  10694.30 1   1  \n",
       "97  18   9   1     0    0       1          0.00     0.000   4482.85 1   1  \n",
       "15  17   7   1     0    0       1          0.00     0.000   3023.88 1   1  \n",
       "429 21   8   1     0    0       1      39570.70  6608.300   3083.58 0   0  \n",
       "330 18  11   1     0    0       1          0.00     0.000  11303.10 1   1  \n",
       "309 45   9   1     0    0       1          0.00     0.000   4844.80 1   1  \n",
       "100 31   9   0     1    0       1          0.00     0.000  26817.60 1   1  \n",
       "172 26  12   1     0    1       0       8408.76  5794.830   1424.94 0   0  \n",
       "369 18  10   1     0    0       1          0.00   273.553   5514.37 1   0  \n",
       "415 23   8   1     0    0       1       7724.28  3403.060      0.00 0   0  \n",
       "295 25   9   1     0    1       1          0.00     0.000   4715.37 1   1  \n",
       "237 21  11   1     0    0       1          0.00     0.000   1553.29 1   1  \n",
       "225 20  11   0     1    0       1          0.00     0.000   6378.72 1   1  \n",
       "44  18   8   0     1    1       1          0.00     0.000   2787.96 1   1  \n",
       "340 19   6   0     1    0       1          0.00     0.000   5071.80 1   1  \n",
       "310 39   6   1     0    0       1          0.00     0.000      0.00 1   1  \n",
       "86  38  11   1     0    0       1          0.00     0.000      0.00 1   1  \n",
       "281 26  10   1     0    0       1          0.00     0.000   2169.03 1   1  \n",
       "124 27  13   0     0    1       0       9381.57   853.723      0.00 0   0  \n",
       "169 22  10   1     0    1       1       1468.35  5588.660  13228.30 0   0  \n",
       "182 25  14   1     0    1       0      35040.10 11536.600  36647.00 0   0  \n",
       "212 21   7   0     1    0       1          0.00     0.000      0.00 1   1  \n",
       "14  27  10   1     0    1       1          0.00     0.000  18739.90 1   1  \n",
       "79  40  11   1     0    0       1          0.00     0.000  23005.60 1   1  \n",
       "    treat\n",
       "80  1    \n",
       "254 0    \n",
       "221 0    \n",
       "189 0    \n",
       "280 0    \n",
       "202 0    \n",
       "366 0    \n",
       "270 0    \n",
       "8   1    \n",
       "363 0    \n",
       "69  1    \n",
       "51  1    \n",
       "308 0    \n",
       "442 0    \n",
       "39  1    \n",
       "47  1    \n",
       "375 0    \n",
       "264 0    \n",
       "186 0    \n",
       "444 0    \n",
       "117 1    \n",
       "423 0    \n",
       "143 1    \n",
       "180 1    \n",
       "364 0    \n",
       "190 0    \n",
       "29  1    \n",
       "199 0    \n",
       "128 1    \n",
       "326 0    \n",
       "⋮   ⋮    \n",
       "435 0    \n",
       "148 1    \n",
       "207 0    \n",
       "156 1    \n",
       "19  1    \n",
       "304 0    \n",
       "66  1    \n",
       "97  1    \n",
       "15  1    \n",
       "429 0    \n",
       "330 0    \n",
       "309 0    \n",
       "100 1    \n",
       "172 1    \n",
       "369 0    \n",
       "415 0    \n",
       "295 0    \n",
       "237 0    \n",
       "225 0    \n",
       "44  1    \n",
       "340 0    \n",
       "310 0    \n",
       "86  1    \n",
       "281 0    \n",
       "124 1    \n",
       "169 1    \n",
       "182 1    \n",
       "212 0    \n",
       "14  1    \n",
       "79  1    "
      ]
     },
     "metadata": {},
     "output_type": "display_data"
    }
   ],
   "source": [
    "train\n"
   ]
  },
  {
   "cell_type": "code",
   "execution_count": null,
   "metadata": {},
   "outputs": [],
   "source": []
  },
  {
   "cell_type": "code",
   "execution_count": null,
   "metadata": {},
   "outputs": [],
   "source": []
  }
 ],
 "metadata": {
  "kernelspec": {
   "display_name": "R",
   "language": "R",
   "name": "ir"
  },
  "language_info": {
   "codemirror_mode": "r",
   "file_extension": ".r",
   "mimetype": "text/x-r-source",
   "name": "R",
   "pygments_lexer": "r",
   "version": "4.1.2"
  }
 },
 "nbformat": 4,
 "nbformat_minor": 4
}
