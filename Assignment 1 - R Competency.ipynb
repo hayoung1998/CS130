{
 "cells": [
  {
   "cell_type": "code",
   "execution_count": 269,
   "metadata": {},
   "outputs": [],
   "source": [
    "un_data <- read.csv(\"https://tinyurl.com/UNpckpdata\")"
   ]
  },
  {
   "cell_type": "code",
   "execution_count": 270,
   "metadata": {},
   "outputs": [
    {
     "data": {
      "text/html": [
       "<style>\n",
       ".list-inline {list-style: none; margin:0; padding: 0}\n",
       ".list-inline>li {display: inline-block}\n",
       ".list-inline>li:not(:last-child)::after {content: \"\\00b7\"; padding: 0 .5ex}\n",
       "</style>\n",
       "<ol class=list-inline><li>147631</li><li>9</li></ol>\n"
      ],
      "text/latex": [
       "\\begin{enumerate*}\n",
       "\\item 147631\n",
       "\\item 9\n",
       "\\end{enumerate*}\n"
      ],
      "text/markdown": [
       "1. 147631\n",
       "2. 9\n",
       "\n",
       "\n"
      ],
      "text/plain": [
       "[1] 147631      9"
      ]
     },
     "metadata": {},
     "output_type": "display_data"
    }
   ],
   "source": [
    "dim(un_data)"
   ]
  },
  {
   "cell_type": "code",
   "execution_count": 271,
   "metadata": {},
   "outputs": [],
   "source": [
    "new_un_data <- na.omit(un_data)"
   ]
  },
  {
   "cell_type": "code",
   "execution_count": 272,
   "metadata": {},
   "outputs": [
    {
     "data": {
      "text/html": [
       "<style>\n",
       ".list-inline {list-style: none; margin:0; padding: 0}\n",
       ".list-inline>li {display: inline-block}\n",
       ".list-inline>li:not(:last-child)::after {content: \"\\00b7\"; padding: 0 .5ex}\n",
       "</style>\n",
       "<ol class=list-inline><li>147626</li><li>9</li></ol>\n"
      ],
      "text/latex": [
       "\\begin{enumerate*}\n",
       "\\item 147626\n",
       "\\item 9\n",
       "\\end{enumerate*}\n"
      ],
      "text/markdown": [
       "1. 147626\n",
       "2. 9\n",
       "\n",
       "\n"
      ],
      "text/plain": [
       "[1] 147626      9"
      ]
     },
     "metadata": {},
     "output_type": "display_data"
    }
   ],
   "source": [
    "dim(new_un_data)"
   ]
  },
  {
   "cell_type": "code",
   "execution_count": 273,
   "metadata": {},
   "outputs": [
    {
     "data": {
      "text/html": [
       "<table class=\"dataframe\">\n",
       "<caption>A data.frame: 6 × 9</caption>\n",
       "<thead>\n",
       "\t<tr><th></th><th scope=col>Contribution_ID</th><th scope=col>ISOCode3</th><th scope=col>M49_Code</th><th scope=col>Contributing_Country</th><th scope=col>Mission_Acronym</th><th scope=col>Personnel_Type</th><th scope=col>Female_Personnel</th><th scope=col>Male_Personnel</th><th scope=col>Last_Reporting_Date</th></tr>\n",
       "\t<tr><th></th><th scope=col>&lt;int&gt;</th><th scope=col>&lt;chr&gt;</th><th scope=col>&lt;int&gt;</th><th scope=col>&lt;chr&gt;</th><th scope=col>&lt;chr&gt;</th><th scope=col>&lt;chr&gt;</th><th scope=col>&lt;int&gt;</th><th scope=col>&lt;int&gt;</th><th scope=col>&lt;chr&gt;</th></tr>\n",
       "</thead>\n",
       "<tbody>\n",
       "\t<tr><th scope=row>1</th><td>427903</td><td>DZA</td><td>12</td><td>Algeria  </td><td>MONUSCO</td><td>Experts on Mission</td><td> 0</td><td>  2</td><td>31/07/2020</td></tr>\n",
       "\t<tr><th scope=row>2</th><td>427904</td><td>ARG</td><td>32</td><td>Argentina</td><td>MINURSO</td><td>Experts on Mission</td><td> 0</td><td>  2</td><td>31/07/2020</td></tr>\n",
       "\t<tr><th scope=row>3</th><td>427905</td><td>ARG</td><td>32</td><td>Argentina</td><td>UNFICYP</td><td>Troops            </td><td>15</td><td>219</td><td>31/07/2020</td></tr>\n",
       "\t<tr><th scope=row>4</th><td>427906</td><td>ARG</td><td>32</td><td>Argentina</td><td>UNFICYP</td><td>Staff Officer     </td><td> 3</td><td>  6</td><td>31/07/2020</td></tr>\n",
       "\t<tr><th scope=row>5</th><td>427907</td><td>ARG</td><td>32</td><td>Argentina</td><td>UNMISS </td><td>Individual Police </td><td> 1</td><td>  5</td><td>31/07/2020</td></tr>\n",
       "\t<tr><th scope=row>6</th><td>427908</td><td>ARG</td><td>32</td><td>Argentina</td><td>UNTSO  </td><td>Experts on Mission</td><td> 0</td><td>  4</td><td>31/07/2020</td></tr>\n",
       "</tbody>\n",
       "</table>\n"
      ],
      "text/latex": [
       "A data.frame: 6 × 9\n",
       "\\begin{tabular}{r|lllllllll}\n",
       "  & Contribution\\_ID & ISOCode3 & M49\\_Code & Contributing\\_Country & Mission\\_Acronym & Personnel\\_Type & Female\\_Personnel & Male\\_Personnel & Last\\_Reporting\\_Date\\\\\n",
       "  & <int> & <chr> & <int> & <chr> & <chr> & <chr> & <int> & <int> & <chr>\\\\\n",
       "\\hline\n",
       "\t1 & 427903 & DZA & 12 & Algeria   & MONUSCO & Experts on Mission &  0 &   2 & 31/07/2020\\\\\n",
       "\t2 & 427904 & ARG & 32 & Argentina & MINURSO & Experts on Mission &  0 &   2 & 31/07/2020\\\\\n",
       "\t3 & 427905 & ARG & 32 & Argentina & UNFICYP & Troops             & 15 & 219 & 31/07/2020\\\\\n",
       "\t4 & 427906 & ARG & 32 & Argentina & UNFICYP & Staff Officer      &  3 &   6 & 31/07/2020\\\\\n",
       "\t5 & 427907 & ARG & 32 & Argentina & UNMISS  & Individual Police  &  1 &   5 & 31/07/2020\\\\\n",
       "\t6 & 427908 & ARG & 32 & Argentina & UNTSO   & Experts on Mission &  0 &   4 & 31/07/2020\\\\\n",
       "\\end{tabular}\n"
      ],
      "text/markdown": [
       "\n",
       "A data.frame: 6 × 9\n",
       "\n",
       "| <!--/--> | Contribution_ID &lt;int&gt; | ISOCode3 &lt;chr&gt; | M49_Code &lt;int&gt; | Contributing_Country &lt;chr&gt; | Mission_Acronym &lt;chr&gt; | Personnel_Type &lt;chr&gt; | Female_Personnel &lt;int&gt; | Male_Personnel &lt;int&gt; | Last_Reporting_Date &lt;chr&gt; |\n",
       "|---|---|---|---|---|---|---|---|---|---|\n",
       "| 1 | 427903 | DZA | 12 | Algeria   | MONUSCO | Experts on Mission |  0 |   2 | 31/07/2020 |\n",
       "| 2 | 427904 | ARG | 32 | Argentina | MINURSO | Experts on Mission |  0 |   2 | 31/07/2020 |\n",
       "| 3 | 427905 | ARG | 32 | Argentina | UNFICYP | Troops             | 15 | 219 | 31/07/2020 |\n",
       "| 4 | 427906 | ARG | 32 | Argentina | UNFICYP | Staff Officer      |  3 |   6 | 31/07/2020 |\n",
       "| 5 | 427907 | ARG | 32 | Argentina | UNMISS  | Individual Police  |  1 |   5 | 31/07/2020 |\n",
       "| 6 | 427908 | ARG | 32 | Argentina | UNTSO   | Experts on Mission |  0 |   4 | 31/07/2020 |\n",
       "\n"
      ],
      "text/plain": [
       "  Contribution_ID ISOCode3 M49_Code Contributing_Country Mission_Acronym\n",
       "1 427903          DZA      12       Algeria              MONUSCO        \n",
       "2 427904          ARG      32       Argentina            MINURSO        \n",
       "3 427905          ARG      32       Argentina            UNFICYP        \n",
       "4 427906          ARG      32       Argentina            UNFICYP        \n",
       "5 427907          ARG      32       Argentina            UNMISS         \n",
       "6 427908          ARG      32       Argentina            UNTSO          \n",
       "  Personnel_Type     Female_Personnel Male_Personnel Last_Reporting_Date\n",
       "1 Experts on Mission  0                 2            31/07/2020         \n",
       "2 Experts on Mission  0                 2            31/07/2020         \n",
       "3 Troops             15               219            31/07/2020         \n",
       "4 Staff Officer       3                 6            31/07/2020         \n",
       "5 Individual Police   1                 5            31/07/2020         \n",
       "6 Experts on Mission  0                 4            31/07/2020         "
      ]
     },
     "metadata": {},
     "output_type": "display_data"
    }
   ],
   "source": [
    "head(new_un_data)"
   ]
  },
  {
   "cell_type": "code",
   "execution_count": 274,
   "metadata": {},
   "outputs": [
    {
     "data": {
      "text/html": [
       "<table class=\"dataframe\">\n",
       "<caption>A matrix: 9 × 1 of type chr</caption>\n",
       "<tbody>\n",
       "\t<tr><th scope=row>Contribution_ID</th><td>integer  </td></tr>\n",
       "\t<tr><th scope=row>ISOCode3</th><td>character</td></tr>\n",
       "\t<tr><th scope=row>M49_Code</th><td>integer  </td></tr>\n",
       "\t<tr><th scope=row>Contributing_Country</th><td>character</td></tr>\n",
       "\t<tr><th scope=row>Mission_Acronym</th><td>character</td></tr>\n",
       "\t<tr><th scope=row>Personnel_Type</th><td>character</td></tr>\n",
       "\t<tr><th scope=row>Female_Personnel</th><td>integer  </td></tr>\n",
       "\t<tr><th scope=row>Male_Personnel</th><td>integer  </td></tr>\n",
       "\t<tr><th scope=row>Last_Reporting_Date</th><td>character</td></tr>\n",
       "</tbody>\n",
       "</table>\n"
      ],
      "text/latex": [
       "A matrix: 9 × 1 of type chr\n",
       "\\begin{tabular}{r|l}\n",
       "\tContribution\\_ID & integer  \\\\\n",
       "\tISOCode3 & character\\\\\n",
       "\tM49\\_Code & integer  \\\\\n",
       "\tContributing\\_Country & character\\\\\n",
       "\tMission\\_Acronym & character\\\\\n",
       "\tPersonnel\\_Type & character\\\\\n",
       "\tFemale\\_Personnel & integer  \\\\\n",
       "\tMale\\_Personnel & integer  \\\\\n",
       "\tLast\\_Reporting\\_Date & character\\\\\n",
       "\\end{tabular}\n"
      ],
      "text/markdown": [
       "\n",
       "A matrix: 9 × 1 of type chr\n",
       "\n",
       "| Contribution_ID | integer   |\n",
       "| ISOCode3 | character |\n",
       "| M49_Code | integer   |\n",
       "| Contributing_Country | character |\n",
       "| Mission_Acronym | character |\n",
       "| Personnel_Type | character |\n",
       "| Female_Personnel | integer   |\n",
       "| Male_Personnel | integer   |\n",
       "| Last_Reporting_Date | character |\n",
       "\n"
      ],
      "text/plain": [
       "                     [,1]     \n",
       "Contribution_ID      integer  \n",
       "ISOCode3             character\n",
       "M49_Code             integer  \n",
       "Contributing_Country character\n",
       "Mission_Acronym      character\n",
       "Personnel_Type       character\n",
       "Female_Personnel     integer  \n",
       "Male_Personnel       integer  \n",
       "Last_Reporting_Date  character"
      ]
     },
     "metadata": {},
     "output_type": "display_data"
    }
   ],
   "source": [
    "# Created a function that returns data's column classes\n",
    "\n",
    "col_classes <- function(df) {t(as.data.frame(lapply(df, function(x) paste(class(x), collapse = ','))))}\n",
    "                                                    \n",
    "col_classes(new_un_data)                           "
   ]
  },
  {
   "cell_type": "code",
   "execution_count": 275,
   "metadata": {},
   "outputs": [],
   "source": [
    "new_un_data$Last_Reporting_Date = as.Date(new_un_data$Last_Reporting_Date,\"%d/%m/%Y\")"
   ]
  },
  {
   "cell_type": "code",
   "execution_count": 276,
   "metadata": {},
   "outputs": [
    {
     "data": {
      "text/html": [
       "<table class=\"dataframe\">\n",
       "<caption>A matrix: 9 × 1 of type chr</caption>\n",
       "<tbody>\n",
       "\t<tr><th scope=row>Contribution_ID</th><td>integer  </td></tr>\n",
       "\t<tr><th scope=row>ISOCode3</th><td>character</td></tr>\n",
       "\t<tr><th scope=row>M49_Code</th><td>integer  </td></tr>\n",
       "\t<tr><th scope=row>Contributing_Country</th><td>character</td></tr>\n",
       "\t<tr><th scope=row>Mission_Acronym</th><td>character</td></tr>\n",
       "\t<tr><th scope=row>Personnel_Type</th><td>character</td></tr>\n",
       "\t<tr><th scope=row>Female_Personnel</th><td>integer  </td></tr>\n",
       "\t<tr><th scope=row>Male_Personnel</th><td>integer  </td></tr>\n",
       "\t<tr><th scope=row>Last_Reporting_Date</th><td>Date     </td></tr>\n",
       "</tbody>\n",
       "</table>\n"
      ],
      "text/latex": [
       "A matrix: 9 × 1 of type chr\n",
       "\\begin{tabular}{r|l}\n",
       "\tContribution\\_ID & integer  \\\\\n",
       "\tISOCode3 & character\\\\\n",
       "\tM49\\_Code & integer  \\\\\n",
       "\tContributing\\_Country & character\\\\\n",
       "\tMission\\_Acronym & character\\\\\n",
       "\tPersonnel\\_Type & character\\\\\n",
       "\tFemale\\_Personnel & integer  \\\\\n",
       "\tMale\\_Personnel & integer  \\\\\n",
       "\tLast\\_Reporting\\_Date & Date     \\\\\n",
       "\\end{tabular}\n"
      ],
      "text/markdown": [
       "\n",
       "A matrix: 9 × 1 of type chr\n",
       "\n",
       "| Contribution_ID | integer   |\n",
       "| ISOCode3 | character |\n",
       "| M49_Code | integer   |\n",
       "| Contributing_Country | character |\n",
       "| Mission_Acronym | character |\n",
       "| Personnel_Type | character |\n",
       "| Female_Personnel | integer   |\n",
       "| Male_Personnel | integer   |\n",
       "| Last_Reporting_Date | Date      |\n",
       "\n"
      ],
      "text/plain": [
       "                     [,1]     \n",
       "Contribution_ID      integer  \n",
       "ISOCode3             character\n",
       "M49_Code             integer  \n",
       "Contributing_Country character\n",
       "Mission_Acronym      character\n",
       "Personnel_Type       character\n",
       "Female_Personnel     integer  \n",
       "Male_Personnel       integer  \n",
       "Last_Reporting_Date  Date     "
      ]
     },
     "metadata": {},
     "output_type": "display_data"
    }
   ],
   "source": [
    "col_classes(new_un_data)"
   ]
  },
  {
   "cell_type": "code",
   "execution_count": 277,
   "metadata": {},
   "outputs": [],
   "source": [
    "# Selected the rows that represent 'Formed Police' and filtered the dates for each year\n",
    " \n",
    "police_units_2017 = new_un_data[new_un_data$Personnel_Type == 'Formed Police Units' & new_un_data$Last_Reporting_Date> \"2017-01-01\" & new_un_data$Last_Reporting_Date < \"2017-12-31\",]\n",
    "police_units_2018 = new_un_data[new_un_data$Personnel_Type == 'Formed Police Units' & new_un_data$Last_Reporting_Date> \"2018-01-01\" & new_un_data$Last_Reporting_Date < \"2018-12-31\",]\n",
    "police_units_2019 = new_un_data[new_un_data$Personnel_Type == 'Formed Police Units' & new_un_data$Last_Reporting_Date> \"2019-01-01\" & new_un_data$Last_Reporting_Date < \"2019-12-31\",]\n",
    "police_units_2020 = new_un_data[new_un_data$Personnel_Type == 'Formed Police Units' & new_un_data$Last_Reporting_Date> \"2020-01-01\" & new_un_data$Last_Reporting_Date < \"2020-03-31\",]\n",
    "\n",
    "# Calculating male and female numbers\n",
    "\n",
    "male_number = sum(police_units$Male_Personnel)\n",
    "female_number = sum(police_units$Female_Personnel)\n",
    "male_number_2017 = sum(police_units_2017$Male_Personnel)\n",
    "female_number_2017 = sum(police_units_2017$Female_Personnel)\n",
    "male_number_2018 = sum(police_units_2018$Male_Personnel)\n",
    "female_number_2018 = sum(police_units_2018$Female_Personnel)\n",
    "male_number_2019 = sum(police_units_2019$Male_Personnel)\n",
    "female_number_2019 = sum(police_units_2019$Female_Personnel)\n",
    "male_number_2020 = sum(police_units_2020$Male_Personnel)\n",
    "female_number_2020 = sum(police_units_2020$Female_Personnel)"
   ]
  },
  {
   "cell_type": "code",
   "execution_count": 278,
   "metadata": {},
   "outputs": [
    {
     "data": {
      "text/html": [
       "0.0642147332037157"
      ],
      "text/latex": [
       "0.0642147332037157"
      ],
      "text/markdown": [
       "0.0642147332037157"
      ],
      "text/plain": [
       "[1] 0.06421473"
      ]
     },
     "metadata": {},
     "output_type": "display_data"
    },
    {
     "data": {
      "text/html": [
       "0.0752926548900931"
      ],
      "text/latex": [
       "0.0752926548900931"
      ],
      "text/markdown": [
       "0.0752926548900931"
      ],
      "text/plain": [
       "[1] 0.07529265"
      ]
     },
     "metadata": {},
     "output_type": "display_data"
    },
    {
     "data": {
      "text/html": [
       "0.103475652787579"
      ],
      "text/latex": [
       "0.103475652787579"
      ],
      "text/markdown": [
       "0.103475652787579"
      ],
      "text/plain": [
       "[1] 0.1034757"
      ]
     },
     "metadata": {},
     "output_type": "display_data"
    },
    {
     "data": {
      "text/html": [
       "0.108264218009479"
      ],
      "text/latex": [
       "0.108264218009479"
      ],
      "text/markdown": [
       "0.108264218009479"
      ],
      "text/plain": [
       "[1] 0.1082642"
      ]
     },
     "metadata": {},
     "output_type": "display_data"
    }
   ],
   "source": [
    "# Calculating the percentage of female personnel\n",
    "\n",
    "female_number_2017 / (male_number_2017 + female_number_2017)\n",
    "female_number_2018 / (male_number_2018 + female_number_2018)\n",
    "female_number_2019 / (male_number_2019 + female_number_2019)\n",
    "female_number_2020 / (male_number_2020 + female_number_2020)\n",
    "\n"
   ]
  },
  {
   "cell_type": "markdown",
   "metadata": {},
   "source": [
    "**I summed up the number of female personnel and divided by the number of total personnel working in the police units. It seems like only 10.83% of the people serving in formed police units were women in 2020 (as of March 2020). To meet the goal of 20% of women by 2028, the UN should aim to increase the percentage by roughly 1% each year.**"
   ]
  },
  {
   "cell_type": "code",
   "execution_count": 279,
   "metadata": {},
   "outputs": [],
   "source": [
    "library(ggplot2)"
   ]
  },
  {
   "cell_type": "code",
   "execution_count": 280,
   "metadata": {},
   "outputs": [
    {
     "data": {
      "text/html": [
       "<table class=\"dataframe\">\n",
       "<caption>A data.frame: 5 × 2</caption>\n",
       "<thead>\n",
       "\t<tr><th></th><th scope=col>year</th><th scope=col>percentage</th></tr>\n",
       "\t<tr><th></th><th scope=col>&lt;chr&gt;</th><th scope=col>&lt;dbl&gt;</th></tr>\n",
       "</thead>\n",
       "<tbody>\n",
       "\t<tr><th scope=row>1</th><td>2017</td><td> 6.4</td></tr>\n",
       "\t<tr><th scope=row>2</th><td>2018</td><td> 7.5</td></tr>\n",
       "\t<tr><th scope=row>3</th><td>2019</td><td>10.3</td></tr>\n",
       "\t<tr><th scope=row>4</th><td>2020</td><td>10.8</td></tr>\n",
       "\t<tr><th scope=row>5</th><td>2028</td><td>20.0</td></tr>\n",
       "</tbody>\n",
       "</table>\n"
      ],
      "text/latex": [
       "A data.frame: 5 × 2\n",
       "\\begin{tabular}{r|ll}\n",
       "  & year & percentage\\\\\n",
       "  & <chr> & <dbl>\\\\\n",
       "\\hline\n",
       "\t1 & 2017 &  6.4\\\\\n",
       "\t2 & 2018 &  7.5\\\\\n",
       "\t3 & 2019 & 10.3\\\\\n",
       "\t4 & 2020 & 10.8\\\\\n",
       "\t5 & 2028 & 20.0\\\\\n",
       "\\end{tabular}\n"
      ],
      "text/markdown": [
       "\n",
       "A data.frame: 5 × 2\n",
       "\n",
       "| <!--/--> | year &lt;chr&gt; | percentage &lt;dbl&gt; |\n",
       "|---|---|---|\n",
       "| 1 | 2017 |  6.4 |\n",
       "| 2 | 2018 |  7.5 |\n",
       "| 3 | 2019 | 10.3 |\n",
       "| 4 | 2020 | 10.8 |\n",
       "| 5 | 2028 | 20.0 |\n",
       "\n"
      ],
      "text/plain": [
       "  year percentage\n",
       "1 2017  6.4      \n",
       "2 2018  7.5      \n",
       "3 2019 10.3      \n",
       "4 2020 10.8      \n",
       "5 2028 20.0      "
      ]
     },
     "metadata": {},
     "output_type": "display_data"
    }
   ],
   "source": [
    "# Created a new data frame that incorporates the statistics from 2017 to March 2020 and the goal state of 2028\n",
    "\n",
    "df <- data.frame(year=c(\"2017\", \"2018\", \"2019\", \"2020\", \"2028\"), percentage=c(6.4, 7.5, 10.3, 10.8, 20))\n",
    "head(df)"
   ]
  },
  {
   "cell_type": "code",
   "execution_count": 281,
   "metadata": {},
   "outputs": [
    {
     "data": {
      "image/png": "[encoded data removed]",
      "text/plain": [
       "plot without title"
      ]
     },
     "metadata": {
      "image/png": {
       "height": 420,
       "width": 420
      }
     },
     "output_type": "display_data"
    }
   ],
   "source": [
    "plot <- ggplot(data=df, aes(x=year, y=percentage, fill=year)) + geom_bar(stat=\"identity\")+theme_minimal()\n",
    "plot"
   ]
  },
  {
   "cell_type": "code",
   "execution_count": 282,
   "metadata": {},
   "outputs": [],
   "source": [
    "# Remove leading and trailing whitespace from 'Mission Acronym' column\n",
    "\n",
    "new_un_data$Mission_Acronym = trimws(new_un_data$Mission_Acronym, \"both\")"
   ]
  },
  {
   "cell_type": "code",
   "execution_count": 283,
   "metadata": {},
   "outputs": [],
   "source": [
    "missions <- function(ISO) {\n",
    "    \n",
    "    country_data = unique(subset(new_un_data,ISOCode3==ISO,select=c(Mission_Acronym)))\n",
    "    mission_name = list(country_data$Mission_Acronym)\n",
    "    number = nrow(country_data)\n",
    "    print(paste(\"The list of all the unique missions of\", ISO, \"is:\", mission_name))\n",
    "    print(paste(\"The number of unique missions of\", ISO, \"is:\", number))\n",
    "}"
   ]
  },
  {
   "cell_type": "code",
   "execution_count": 284,
   "metadata": {},
   "outputs": [
    {
     "name": "stdout",
     "output_type": "stream",
     "text": [
      "[1] \"The list of all the unique missions of USA is: c(\\\"BINUH\\\", \\\"MINUSCA\\\", \\\"MINUSMA\\\", \\\"MONUSCO\\\", \\\"UNMISS\\\", \\\"UNSMIL\\\", \\\"UNTSO\\\", \\\"MINUJUSTH\\\", \\\"UNMIL\\\", \\\"MINUSTAH\\\", \\\"UNAMA\\\", \\\"MINURCAT\\\", \\\"UNMIS\\\", \\\"UNMIK\\\", \\\"UNIOSIL\\\", \\\"UNAMID\\\", \\\"UNMIT\\\", \\\"UNOTIL\\\", \\\"UNAMSIL\\\", \\\"UNMISET\\\", \\\"UNIKOM\\\", \\\"UNMEE\\\", \\\"UNMIBH\\\")\"\n",
      "[1] \"The number of unique missions of USA is: 23\"\n"
     ]
    }
   ],
   "source": [
    "# I tried list(), toString(), View() and a couple of different methods but couldn't find any effective way to make this result prettier.\n",
    "\n",
    "missions('USA')"
   ]
  },
  {
   "cell_type": "code",
   "execution_count": 285,
   "metadata": {},
   "outputs": [
    {
     "name": "stdout",
     "output_type": "stream",
     "text": [
      "[1] \"The list of all the unique missions of KOR is: c(\\\"MINURSO\\\", \\\"UNAMID\\\", \\\"UNIFIL\\\", \\\"UNMISS\\\", \\\"UNMOGIP\\\", \\\"UNMHA\\\", \\\"MINUJUSTH\\\", \\\"UNMIL\\\", \\\"UNOCI\\\", \\\"MINUSTAH\\\", \\\"UNMIT\\\", \\\"UNISFA\\\", \\\"UNMIS\\\", \\\"UNMIN\\\", \\\"UNAMA\\\", \\\"UNMISET\\\", \\\"UNFICYP\\\")\"\n",
      "[1] \"The number of unique missions of KOR is: 17\"\n"
     ]
    }
   ],
   "source": [
    "missions('KOR')"
   ]
  },
  {
   "cell_type": "code",
   "execution_count": 286,
   "metadata": {},
   "outputs": [
    {
     "name": "stdout",
     "output_type": "stream",
     "text": [
      "[1] \"The list of all the unique missions of IND is: c(\\\"MINURSO\\\", \\\"MONUSCO\\\", \\\"UNDOF\\\", \\\"UNFICYP\\\", \\\"UNIFIL\\\", \\\"UNISFA\\\", \\\"UNMISS\\\", \\\"UNTSO\\\", \\\"UNSOM\\\", \\\"MINUJUSTH\\\", \\\"MINUSTAH\\\", \\\"UNMIL\\\", \\\"UNAMA\\\", \\\"UNOCI\\\", \\\"UNAMI\\\", \\\"UNMIT\\\", \\\"UNMIS\\\", \\\"MONUC\\\", \\\"UNMIK\\\", \\\"UNIOSIL\\\", \\\"UNMEE\\\", \\\"ONUB\\\", \\\"UNOMIG\\\", \\\"UNAMSIL\\\", \\\"UNIKOM\\\", \\\"UNMIBH\\\")\"\n",
      "[1] \"The number of unique missions of IND is: 26\"\n"
     ]
    }
   ],
   "source": [
    "missions('IND')"
   ]
  },
  {
   "cell_type": "code",
   "execution_count": 287,
   "metadata": {},
   "outputs": [
    {
     "name": "stdout",
     "output_type": "stream",
     "text": [
      "[1] \"The list of all the unique missions of USA is: c(\\\"BINUH\\\", \\\"MINUSCA\\\", \\\"MINUSMA\\\", \\\"MONUSCO\\\", \\\"UNMISS\\\", \\\"UNSMIL\\\", \\\"UNTSO\\\", \\\"MINUJUSTH\\\", \\\"UNMIL\\\", \\\"MINUSTAH\\\", \\\"UNAMA\\\", \\\"MINURCAT\\\", \\\"UNMIS\\\", \\\"UNMIK\\\", \\\"UNIOSIL\\\", \\\"UNAMID\\\", \\\"UNMIT\\\", \\\"UNOTIL\\\", \\\"UNAMSIL\\\", \\\"UNMISET\\\", \\\"UNIKOM\\\", \\\"UNMEE\\\", \\\"UNMIBH\\\")\"\n",
      "[1] \"The number of unique missions of USA is: 23\"\n",
      "[1] \"The list of all the unique missions of KOR is: c(\\\"MINURSO\\\", \\\"UNAMID\\\", \\\"UNIFIL\\\", \\\"UNMISS\\\", \\\"UNMOGIP\\\", \\\"UNMHA\\\", \\\"MINUJUSTH\\\", \\\"UNMIL\\\", \\\"UNOCI\\\", \\\"MINUSTAH\\\", \\\"UNMIT\\\", \\\"UNISFA\\\", \\\"UNMIS\\\", \\\"UNMIN\\\", \\\"UNAMA\\\", \\\"UNMISET\\\", \\\"UNFICYP\\\")\"\n",
      "[1] \"The number of unique missions of KOR is: 17\"\n",
      "[1] \"The list of all the unique missions of IND is: c(\\\"MINURSO\\\", \\\"MONUSCO\\\", \\\"UNDOF\\\", \\\"UNFICYP\\\", \\\"UNIFIL\\\", \\\"UNISFA\\\", \\\"UNMISS\\\", \\\"UNTSO\\\", \\\"UNSOM\\\", \\\"MINUJUSTH\\\", \\\"MINUSTAH\\\", \\\"UNMIL\\\", \\\"UNAMA\\\", \\\"UNOCI\\\", \\\"UNAMI\\\", \\\"UNMIT\\\", \\\"UNMIS\\\", \\\"MONUC\\\", \\\"UNMIK\\\", \\\"UNIOSIL\\\", \\\"UNMEE\\\", \\\"ONUB\\\", \\\"UNOMIG\\\", \\\"UNAMSIL\\\", \\\"UNIKOM\\\", \\\"UNMIBH\\\")\"\n",
      "[1] \"The number of unique missions of IND is: 26\"\n",
      "[1] \"The list of all the unique missions of DEU is: c(\\\"MINURSO\\\", \\\"MINUSMA\\\", \\\"UNAMID\\\", \\\"UNIFIL\\\", \\\"UNMIK\\\", \\\"UNMISS\\\", \\\"UNSOM\\\", \\\"UNMHA\\\", \\\"MINUJUSTH\\\", \\\"UNSMIL\\\", \\\"UNMIL\\\", \\\"UNAMA\\\", \\\"MINUSTAH\\\", \\\"UNMIS\\\", \\\"UNOMIG\\\", \\\"UNAMSIL\\\", \\\"UNIKOM\\\", \\\"UNMIBH\\\")\"\n",
      "[1] \"The number of unique missions of DEU is: 18\"\n",
      "[1] \"The list of all the unique missions of ARG is: c(\\\"MINURSO\\\", \\\"UNFICYP\\\", \\\"UNMISS\\\", \\\"UNTSO\\\", \\\"UNVMC\\\", \\\"MINUSCA\\\", \\\"MINUJUSTH\\\", \\\"UNAMI\\\", \\\"MINUSTAH\\\", \\\"UNMC\\\", \\\"UNOCI\\\", \\\"UNMIL\\\", \\\"UNMIS\\\", \\\"MONUC\\\", \\\"UNMIK\\\", \\\"UNMISET\\\", \\\"UNIKOM\\\", \\\"UNIMOG\\\", \\\"UNMIBH\\\")\"\n",
      "[1] \"The number of unique missions of ARG is: 19\"\n",
      "[1] \"The list of all the unique missions of GBR is: c(\\\"MINUSMA\\\", \\\"UNAMA\\\", \\\"UNFICYP\\\", \\\"UNMISS\\\", \\\"UNSMIL\\\", \\\"UNSOM\\\", \\\"UNSOS\\\", \\\"MONUSCO\\\", \\\"UNVMC\\\", \\\"UNMC\\\", \\\"UNMIL\\\", \\\"MINUSTAH\\\", \\\"UNAMI\\\", \\\"UNISFA\\\", \\\"UNMIS\\\", \\\"MONUC\\\", \\\"UNAMID\\\", \\\"UNMIK\\\", \\\"UNMEE\\\", \\\"UNIOSIL\\\", \\\"UNAMSIL\\\", \\\"UNMISET\\\", \\\"UNIKOM\\\", \\\"UNMIBH\\\")\"\n",
      "[1] \"The number of unique missions of GBR is: 24\"\n",
      "[1] \"The list of all the unique missions of TWN is: character(0)\"\n",
      "[1] \"The number of unique missions of TWN is: 0\"\n"
     ]
    }
   ],
   "source": [
    "countries <- c('USA', 'KOR', 'IND', 'DEU', 'ARG', 'GBR', 'TWN')\n",
    "\n",
    "for (val in countries) {\n",
    "    missions(val)\n",
    "}\n"
   ]
  },
  {
   "cell_type": "markdown",
   "metadata": {},
   "source": [
    "**It seems like Korea has been only part of 17 missions even though it has 10th biggest economy in the world in terms of nominal GDP. Germany has 4th biggest economy in the world but participated in onlt 18 missions. The UN should encourage those two countries to contribute more to global society by participating into peacekeeping activities.**"
   ]
  },
  {
   "cell_type": "code",
   "execution_count": null,
   "metadata": {},
   "outputs": [],
   "source": []
  }
 ],
 "metadata": {
  "kernelspec": {
   "display_name": "R",
   "language": "R",
   "name": "ir"
  },
  "language_info": {
   "codemirror_mode": "r",
   "file_extension": ".r",
   "mimetype": "text/x-r-source",
   "name": "R",
   "pygments_lexer": "r",
   "version": "4.1.2"
  }
 },
 "nbformat": 4,
 "nbformat_minor": 4
}
